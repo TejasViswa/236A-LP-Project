{
 "cells": [
  {
   "cell_type": "code",
   "execution_count": 21,
   "metadata": {},
   "outputs": [],
   "source": [
    "import numpy as np\n",
    "import pandas as pd\n",
    "import cvxpy as cp\n"
   ]
  },
  {
   "cell_type": "markdown",
   "metadata": {},
   "source": [
    "## Synthetic dataset"
   ]
  },
  {
   "cell_type": "code",
   "execution_count": 22,
   "metadata": {},
   "outputs": [
    {
     "ename": "NameError",
     "evalue": "name 'plt' is not defined",
     "output_type": "error",
     "traceback": [
      "\u001b[0;31m---------------------------------------------------------------------------\u001b[0m",
      "\u001b[0;31mNameError\u001b[0m                                 Traceback (most recent call last)",
      "\u001b[0;32m/tmp/ipykernel_381510/1684008997.py\u001b[0m in \u001b[0;36m<module>\u001b[0;34m\u001b[0m\n\u001b[1;32m      5\u001b[0m \u001b[0mx2\u001b[0m\u001b[0;34m,\u001b[0m \u001b[0my2\u001b[0m \u001b[0;34m=\u001b[0m \u001b[0mnp\u001b[0m\u001b[0;34m.\u001b[0m\u001b[0mrandom\u001b[0m\u001b[0;34m.\u001b[0m\u001b[0mmultivariate_normal\u001b[0m\u001b[0;34m(\u001b[0m\u001b[0mmean2\u001b[0m\u001b[0;34m,\u001b[0m \u001b[0mcov\u001b[0m\u001b[0;34m,\u001b[0m \u001b[0;36m100\u001b[0m\u001b[0;34m)\u001b[0m\u001b[0;34m.\u001b[0m\u001b[0mT\u001b[0m\u001b[0;34m\u001b[0m\u001b[0;34m\u001b[0m\u001b[0m\n\u001b[1;32m      6\u001b[0m \u001b[0;34m\u001b[0m\u001b[0m\n\u001b[0;32m----> 7\u001b[0;31m \u001b[0mplt\u001b[0m\u001b[0;34m.\u001b[0m\u001b[0mplot\u001b[0m\u001b[0;34m(\u001b[0m\u001b[0mx1\u001b[0m\u001b[0;34m,\u001b[0m \u001b[0my1\u001b[0m\u001b[0;34m,\u001b[0m \u001b[0;34m'x'\u001b[0m\u001b[0;34m)\u001b[0m\u001b[0;34m\u001b[0m\u001b[0;34m\u001b[0m\u001b[0m\n\u001b[0m\u001b[1;32m      8\u001b[0m \u001b[0mplt\u001b[0m\u001b[0;34m.\u001b[0m\u001b[0mplot\u001b[0m\u001b[0;34m(\u001b[0m\u001b[0mx2\u001b[0m\u001b[0;34m,\u001b[0m \u001b[0my2\u001b[0m\u001b[0;34m,\u001b[0m \u001b[0;34m'x'\u001b[0m\u001b[0;34m)\u001b[0m\u001b[0;34m\u001b[0m\u001b[0;34m\u001b[0m\u001b[0m\n\u001b[1;32m      9\u001b[0m \u001b[0mplt\u001b[0m\u001b[0;34m.\u001b[0m\u001b[0maxis\u001b[0m\u001b[0;34m(\u001b[0m\u001b[0;34m'equal'\u001b[0m\u001b[0;34m)\u001b[0m\u001b[0;34m\u001b[0m\u001b[0;34m\u001b[0m\u001b[0m\n",
      "\u001b[0;31mNameError\u001b[0m: name 'plt' is not defined"
     ]
    }
   ],
   "source": [
    "mean1 = [-1,1]\n",
    "mean2 = [1,-1]\n",
    "cov = [[1, 0], [0, 1]]\n",
    "x1, y1 = np.random.multivariate_normal(mean1, cov, 100).T\n",
    "x2, y2 = np.random.multivariate_normal(mean2, cov, 100).T\n",
    "\n",
    "plt.plot(x1, y1, 'x')\n",
    "plt.plot(x2, y2, 'x')\n",
    "plt.axis('equal')\n",
    "plt.show()"
   ]
  },
  {
   "cell_type": "code",
   "execution_count": null,
   "metadata": {},
   "outputs": [
    {
     "name": "stdout",
     "output_type": "stream",
     "text": [
      "[-0.27107071 -1.00078154 -0.18763688 -0.80753856] [ 3.12666893 -1.28550992  0.54687685  1.05453515]\n"
     ]
    }
   ],
   "source": [
    "m = 3 #rows\n",
    "l = 3 #columns\n",
    "X ,Y= np.random.multivariate_normal(mean1, cov, 4).T\n",
    "Z= np.random.multivariate_normal(mean1, cov, (m,1)).T\n",
    "print(X,Y)\n",
    "# print(Z)"
   ]
  },
  {
   "cell_type": "markdown",
   "metadata": {},
   "source": [
    "## Defining project problem in cvxpy "
   ]
  },
  {
   "cell_type": "code",
   "execution_count": null,
   "metadata": {},
   "outputs": [
    {
     "data": {
      "text/plain": [
       "8.340041576648943"
      ]
     },
     "execution_count": 43,
     "metadata": {},
     "output_type": "execute_result"
    }
   ],
   "source": [
    "#svm formulation for synthetic \n",
    "m = 5 #rows\n",
    "l = 4 #columns\n",
    "num_samples =100\n",
    "X , Y = np.random.multivariate_normal(mean1, cov, num_samples).T  # synthetic dataset\n",
    "\n",
    "## M : dimension of \n",
    "W_ = cp.Variable((num_samples,1))\n",
    "w_ = cp.Variable()\n",
    "loss = cp.sum(cp.pos(1 - cp.multiply(Y, X @ W_ - w_)))\n",
    "# reg = cp.norm(W, 1)\n",
    "# lambd = cp.Parameter(nonneg=True)\n",
    "prob = cp.Problem(cp.Minimize(loss/m))\n",
    "prob.solve()"
   ]
  },
  {
   "cell_type": "markdown",
   "metadata": {},
   "source": [
    "# References\n",
    "- https://github.com/sdeepaknarayanan/Machine-Learning/blob/master/Assignment%207/HW7_SVM.ipynb  \n",
    "\n",
    "- https://www.baeldung.com/cs/svm-hard-margin-vs-soft-margin\n",
    "- https://www.quora.com/How-do-we-select-which-data-points-act-as-support-vectors-for-SVM\n",
    "\n",
    "\n",
    "# Papers\n",
    "- https://link.springer.com/content/pdf/10.1007/s10462-017-9611-1.pdf"
   ]
  },
  {
   "cell_type": "markdown",
   "metadata": {},
   "source": [
    "# Preparing the data"
   ]
  },
  {
   "cell_type": "code",
   "execution_count": null,
   "metadata": {},
   "outputs": [],
   "source": [
    "dataset = pd.read_csv('mnist/mnist_train.csv')\n",
    "train_data, train_label = dataset.drop(labels = [\"label\"],axis = 1).to_numpy(), dataset[\"label\"]\n",
    "trainlabel = dataset.loc[(dataset['label']== 1)  | (dataset['label']== 7) ]['label']\n",
    "trainlabel.loc[trainlabel == 1] =1\n",
    "trainlabel.loc[trainlabel == 7] =-1\n",
    "traindata = dataset.loc[(dataset['label']== 1)  | (dataset['label']== 7) ]\n",
    "traindata = traindata.drop(labels = [\"label\"],axis = 1).to_numpy()\n",
    "trainlabel = trainlabel.to_numpy()\n",
    "trainlabel= np.reshape(trainlabel, (trainlabel.shape[0],1))"
   ]
  },
  {
   "cell_type": "markdown",
   "metadata": {},
   "source": [
    "# SVM formulation for mnist classes 1 and 7"
   ]
  },
  {
   "cell_type": "code",
   "execution_count": null,
   "metadata": {},
   "outputs": [
    {
     "data": {
      "text/plain": [
       "0.0009312605061763449"
      ]
     },
     "execution_count": 3,
     "metadata": {},
     "output_type": "execute_result"
    }
   ],
   "source": [
    "#normal\n",
    "m = traindata.shape[1]\n",
    "W = cp.Variable((m,1))\n",
    "w = cp.Variable()\n",
    "objective_func = cp.Minimize(0.5*cp.norm(W,p=2)**2)\n",
    "const = [trainlabel[i]*(traindata[i]@ W+w)>=1 for i in range(traindata.shape[0])]\n",
    "prob = cp.Problem(objective_func,constraints=const)\n",
    "\n",
    "# loss = cp.sum(cp.pos(1 - cp.multiply(train_data, input_row @ W - w)))\n",
    "# prob = cp.Problem(cp.Minimize(loss/m))\n",
    "prob.solve()"
   ]
  },
  {
   "cell_type": "code",
   "execution_count": null,
   "metadata": {},
   "outputs": [
    {
     "data": {
      "text/plain": [
       "1.862521144922498e-05"
      ]
     },
     "execution_count": 6,
     "metadata": {},
     "output_type": "execute_result"
    }
   ],
   "source": [
    "#hinge loss\n",
    "m1 = traindata.shape[1]\n",
    "W1 = cp.Variable((m,1))\n",
    "w1 = cp.Variable()\n",
    "lambd = cp.Parameter(nonneg=True)\n",
    "\n",
    "## Ideally we will have to try using different values fro \"lambda\"\n",
    "## For the sake of testing the code, we have set it to 0.01\n",
    "## Do we need to have a lambda?\n",
    "lambd = 0.01 \n",
    "reg_loss = cp.norm(W1,p=2)**2\n",
    "\n",
    "#hinge loss\n",
    "hinge_loss = cp.sum(cp.pos(1-cp.multiply(trainlabel,traindata @ W1 - w1)))\n",
    "\n",
    "\n",
    "\n",
    "#Objective is to minimize reg_loss and hinge_loss\n",
    "# objective_func = cp.Minimize(hinge_loss/m + lambd*reg_loss)\n",
    "prob1 = cp.Problem(cp.Minimize(hinge_loss/m + lambd*reg_loss))\n",
    "prob1.solve()"
   ]
  },
  {
   "cell_type": "markdown",
   "metadata": {},
   "source": [
    "## Test Data"
   ]
  },
  {
   "cell_type": "code",
   "execution_count": null,
   "metadata": {},
   "outputs": [
    {
     "name": "stderr",
     "output_type": "stream",
     "text": [
      "/home/anw/.local/lib/python3.8/site-packages/pandas/core/indexing.py:1732: SettingWithCopyWarning: \n",
      "A value is trying to be set on a copy of a slice from a DataFrame\n",
      "\n",
      "See the caveats in the documentation: https://pandas.pydata.org/pandas-docs/stable/user_guide/indexing.html#returning-a-view-versus-a-copy\n",
      "  self._setitem_single_block(indexer, value, name)\n",
      "/home/anw/.local/lib/python3.8/site-packages/pandas/core/indexing.py:1965: SettingWithCopyWarning: \n",
      "A value is trying to be set on a copy of a slice from a DataFrame\n",
      "\n",
      "See the caveats in the documentation: https://pandas.pydata.org/pandas-docs/stable/user_guide/indexing.html#returning-a-view-versus-a-copy\n",
      "  self.obj._check_is_chained_assignment_possible()\n"
     ]
    }
   ],
   "source": [
    "dataset_test = pd.read_csv('mnist/mnist_test.csv')\n",
    "testlabel = dataset.loc[(dataset['label']== 1)  | (dataset['label']== 7) ]['label']\n",
    "testlabel.loc[testlabel == 1] =1\n",
    "testlabel.loc[testlabel == 7] =-1\n",
    "testdata = dataset.loc[(dataset['label']== 1)  | (dataset['label']== 7) ]\n",
    "testdata = testdata.drop(labels = [\"label\"],axis = 1).to_numpy()\n",
    "testlabel = testlabel.to_numpy()\n",
    "testlabel= np.reshape(testlabel, (testlabel.shape[0],1))"
   ]
  },
  {
   "cell_type": "code",
   "execution_count": 38,
   "metadata": {},
   "outputs": [
    {
     "data": {
      "text/plain": [
       "0"
      ]
     },
     "execution_count": 38,
     "metadata": {},
     "output_type": "execute_result"
    }
   ],
   "source": [
    "res"
   ]
  },
  {
   "cell_type": "code",
   "execution_count": 37,
   "metadata": {},
   "outputs": [],
   "source": [
    "TEST = len(testdata)\n",
    "sumn = np.sign(testdata.dot(W1.value) - w1.value)\n",
    "res = (testlabel != sumn).sum()"
   ]
  },
  {
   "cell_type": "code",
   "execution_count": null,
   "metadata": {},
   "outputs": [],
   "source": [
    " def f(test_input):\n",
    "        test_val = test_input.dot(W.value) +  w.value\n",
    "        if test_val < -1:\n",
    "            test_val -1\n",
    "        elif test_val > 1:\n",
    "            test_val = 1\n",
    "        \n",
    "        estimated_class = classes.get(f(test_input))\n",
    "        return estimated_class"
   ]
  },
  {
   "cell_type": "code",
   "execution_count": null,
   "metadata": {},
   "outputs": [
    {
     "ename": "NameError",
     "evalue": "name 'self' is not defined",
     "output_type": "error",
     "traceback": [
      "\u001b[0;31m---------------------------------------------------------------------------\u001b[0m",
      "\u001b[0;31mNameError\u001b[0m                                 Traceback (most recent call last)",
      "\u001b[0;32m/tmp/ipykernel_252158/4281960690.py\u001b[0m in \u001b[0;36m<module>\u001b[0;34m\u001b[0m\n\u001b[1;32m      2\u001b[0m \u001b[0mperformance\u001b[0m \u001b[0;34m=\u001b[0m \u001b[0;34m[\u001b[0m\u001b[0;34m]\u001b[0m\u001b[0;34m\u001b[0m\u001b[0;34m\u001b[0m\u001b[0m\n\u001b[1;32m      3\u001b[0m \u001b[0;32mfor\u001b[0m \u001b[0mi\u001b[0m \u001b[0;32min\u001b[0m \u001b[0mrange\u001b[0m\u001b[0;34m(\u001b[0m\u001b[0mtestdata\u001b[0m\u001b[0;34m.\u001b[0m\u001b[0mshape\u001b[0m\u001b[0;34m[\u001b[0m\u001b[0;36m0\u001b[0m\u001b[0;34m]\u001b[0m\u001b[0;34m)\u001b[0m\u001b[0;34m:\u001b[0m\u001b[0;34m\u001b[0m\u001b[0;34m\u001b[0m\u001b[0m\n\u001b[0;32m----> 4\u001b[0;31m     \u001b[0mresult\u001b[0m \u001b[0;34m=\u001b[0m \u001b[0mself\u001b[0m\u001b[0;34m.\u001b[0m\u001b[0mf\u001b[0m\u001b[0;34m(\u001b[0m\u001b[0mtestdata\u001b[0m\u001b[0;34m[\u001b[0m\u001b[0mi\u001b[0m\u001b[0;34m]\u001b[0m\u001b[0;34m)\u001b[0m\u001b[0;34m\u001b[0m\u001b[0;34m\u001b[0m\u001b[0m\n\u001b[0m\u001b[1;32m      5\u001b[0m     \u001b[0mres\u001b[0m\u001b[0;34m.\u001b[0m\u001b[0mappend\u001b[0m\u001b[0;34m(\u001b[0m\u001b[0mresult\u001b[0m\u001b[0;34m)\u001b[0m\u001b[0;34m\u001b[0m\u001b[0;34m\u001b[0m\u001b[0m\n\u001b[1;32m      6\u001b[0m \u001b[0;34m\u001b[0m\u001b[0m\n",
      "\u001b[0;31mNameError\u001b[0m: name 'self' is not defined"
     ]
    }
   ],
   "source": [
    "res = []\n",
    "performance = []\n",
    "for i in range(testdata.shape[0]):\n",
    "    result = f(testdata[i])\n",
    "    res.append(result)\n",
    "\n",
    "    ## assessing performance\n",
    "    if result == testlabel[i]:#[0]:\n",
    "        performance.append[1]\n",
    "    else:\n",
    "        performance.append[0]\n"
   ]
  },
  {
   "cell_type": "markdown",
   "metadata": {},
   "source": [
    "## Testing the classifier"
   ]
  },
  {
   "cell_type": "code",
   "execution_count": null,
   "metadata": {},
   "outputs": [
    {
     "data": {
      "text/plain": [
       "array([-9.55024793])"
      ]
     },
     "execution_count": 5,
     "metadata": {},
     "output_type": "execute_result"
    }
   ],
   "source": [
    "testdata[8].dot(W.value) +  w.value"
   ]
  },
  {
   "cell_type": "code",
   "execution_count": null,
   "metadata": {},
   "outputs": [
    {
     "data": {
      "text/plain": [
       "-1"
      ]
     },
     "execution_count": 6,
     "metadata": {},
     "output_type": "execute_result"
    }
   ],
   "source": [
    "testlabel[8]"
   ]
  },
  {
   "cell_type": "code",
   "execution_count": null,
   "metadata": {},
   "outputs": [],
   "source": [
    "positive_class =[]\n",
    "negative_class = []\n",
    "for i in range(testdata.shape[0]):\n",
    "    if testdata[i].dot(W.value) +  w.value>1:\n",
    "        positive_class.append(testdata[i])\n",
    "    if testdata[i].dot(W.value) +  w.value<-1:\n",
    "        negative_class.append(testdata[i])\n",
    "        "
   ]
  },
  {
   "cell_type": "code",
   "execution_count": null,
   "metadata": {},
   "outputs": [
    {
     "data": {
      "text/plain": [
       "(13007, 784)"
      ]
     },
     "execution_count": 13,
     "metadata": {},
     "output_type": "execute_result"
    }
   ],
   "source": [
    "testdata.shape\n",
    "        "
   ]
  },
  {
   "cell_type": "code",
   "execution_count": null,
   "metadata": {},
   "outputs": [
    {
     "data": {
      "text/plain": [
       "Variable(())"
      ]
     },
     "execution_count": 12,
     "metadata": {},
     "output_type": "execute_result"
    }
   ],
   "source": [
    "train_error = (np.sign(X.dot(beta_true)) != np.sign(traindata[i].dot(W.value) +  w.value))\n",
    "test_error[i] = (np.sign(X_test.dot(beta_true) + offset) != np.sign(X_test.dot(beta.value) - v.value)).sum()/TEST"
   ]
  },
  {
   "cell_type": "code",
   "execution_count": null,
   "metadata": {},
   "outputs": [
    {
     "data": {
      "text/plain": [
       "(60000,)"
      ]
     },
     "execution_count": 58,
     "metadata": {},
     "output_type": "execute_result"
    }
   ],
   "source": [
    "train_label.shape"
   ]
  }
 ],
 "metadata": {
  "interpreter": {
   "hash": "31f2aee4e71d21fbe5cf8b01ff0e069b9275f58929596ceb00d14d90e3e16cd6"
  },
  "kernelspec": {
   "display_name": "Python 3.8.10 64-bit",
   "name": "python3"
  },
  "language_info": {
   "codemirror_mode": {
    "name": "ipython",
    "version": 3
   },
   "file_extension": ".py",
   "mimetype": "text/x-python",
   "name": "python",
   "nbconvert_exporter": "python",
   "pygments_lexer": "ipython3",
   "version": "3.8.10"
  },
  "orig_nbformat": 4
 },
 "nbformat": 4,
 "nbformat_minor": 2
}

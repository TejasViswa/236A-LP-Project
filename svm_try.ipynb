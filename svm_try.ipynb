{
 "cells": [
  {
   "cell_type": "code",
   "execution_count": 1,
   "metadata": {},
   "outputs": [],
   "source": [
    "import numpy as np\n",
    "import pandas as pd\n",
    "import cvxpy as cp\n"
   ]
  },
  {
   "cell_type": "markdown",
   "metadata": {},
   "source": [
    "## Example implementation of SVM in cvxpy "
   ]
  },
  {
   "cell_type": "code",
   "execution_count": 7,
   "metadata": {},
   "outputs": [],
   "source": [
    "#dataset \n",
    "np.random.seed(1)\n",
    "n = 20\n",
    "m = 1000\n",
    "TEST = m\n",
    "DENSITY = 0.2\n",
    "beta_true = np.random.randn(n,1)\n",
    "idxs = np.random.choice(range(n), int((1-DENSITY)*n), replace=False)\n",
    "for idx in idxs:\n",
    "    beta_true[idx] = 0\n",
    "offset = 0\n",
    "sigma = 45\n",
    "X = np.random.normal(0, 5, size=(m,n))\n",
    "Y = np.sign(X.dot(beta_true) + offset + np.random.normal(0,sigma,size=(m,1)))\n",
    "X_test = np.random.normal(0, 5, size=(TEST,n))\n",
    "Y_test = np.sign(X_test.dot(beta_true) + offset + np.random.normal(0,sigma,size=(TEST,1)))"
   ]
  },
  {
   "cell_type": "code",
   "execution_count": 8,
   "metadata": {},
   "outputs": [],
   "source": [
    "#svm formulation\n",
    "beta = cp.Variable((n,1))\n",
    "v = cp.Variable()\n",
    "loss = cp.sum(cp.pos(1 - cp.multiply(Y, X @ beta - v)))\n",
    "reg = cp.norm(beta, 1)\n",
    "lambd = cp.Parameter(nonneg=True)\n",
    "prob = cp.Problem(cp.Minimize(loss/m + lambd*reg))"
   ]
  },
  {
   "cell_type": "code",
   "execution_count": 9,
   "metadata": {},
   "outputs": [],
   "source": [
    "# Compute a trade-off curve and record train and test error.\n",
    "TRIALS = 100\n",
    "train_error = np.zeros(TRIALS)\n",
    "test_error = np.zeros(TRIALS)\n",
    "lambda_vals = np.logspace(-2, 0, TRIALS)\n",
    "beta_vals = []\n",
    "for i in range(TRIALS):\n",
    "    lambd.value = lambda_vals[i]\n",
    "    prob.solve()\n",
    "    train_error[i] = (np.sign(X.dot(beta_true) + offset) != np.sign(X.dot(beta.value) - v.value)).sum()/m\n",
    "    test_error[i] = (np.sign(X_test.dot(beta_true) + offset) != np.sign(X_test.dot(beta.value) - v.value)).sum()/TEST\n",
    "    beta_vals.append(beta.value)"
   ]
  },
  {
   "cell_type": "code",
   "execution_count": 10,
   "metadata": {},
   "outputs": [
    {
     "data": {
      "image/svg+xml": "<?xml version=\"1.0\" encoding=\"utf-8\" standalone=\"no\"?>\n<!DOCTYPE svg PUBLIC \"-//W3C//DTD SVG 1.1//EN\"\n  \"http://www.w3.org/Graphics/SVG/1.1/DTD/svg11.dtd\">\n<svg height=\"268.003125pt\" version=\"1.1\" viewBox=\"0 0 372.103125 268.003125\" width=\"372.103125pt\" xmlns=\"http://www.w3.org/2000/svg\" xmlns:xlink=\"http://www.w3.org/1999/xlink\">\n <metadata>\n  <rdf:RDF xmlns:cc=\"http://creativecommons.org/ns#\" xmlns:dc=\"http://purl.org/dc/elements/1.1/\" xmlns:rdf=\"http://www.w3.org/1999/02/22-rdf-syntax-ns#\">\n   <cc:Work>\n    <dc:type rdf:resource=\"http://purl.org/dc/dcmitype/StillImage\"/>\n    <dc:date>2021-10-30T13:26:08.745684</dc:date>\n    <dc:format>image/svg+xml</dc:format>\n    <dc:creator>\n     <cc:Agent>\n      <dc:title>Matplotlib v3.4.3, https://matplotlib.org/</dc:title>\n     </cc:Agent>\n    </dc:creator>\n   </cc:Work>\n  </rdf:RDF>\n </metadata>\n <defs>\n  <style type=\"text/css\">*{stroke-linecap:butt;stroke-linejoin:round;}</style>\n </defs>\n <g id=\"figure_1\">\n  <g id=\"patch_1\">\n   <path d=\"M 0 268.003125 \nL 372.103125 268.003125 \nL 372.103125 0 \nL 0 0 \nz\n\" style=\"fill:none;\"/>\n  </g>\n  <g id=\"axes_1\">\n   <g id=\"patch_2\">\n    <path d=\"M 30.103125 224.64 \nL 364.903125 224.64 \nL 364.903125 7.2 \nL 30.103125 7.2 \nz\n\" style=\"fill:#ffffff;\"/>\n   </g>\n   <g id=\"matplotlib.axis_1\">\n    <g id=\"xtick_1\">\n     <g id=\"line2d_1\">\n      <defs>\n       <path d=\"M 0 0 \nL 0 3.5 \n\" id=\"mbeb5c75c69\" style=\"stroke:#000000;stroke-width:0.8;\"/>\n      </defs>\n      <g>\n       <use style=\"stroke:#000000;stroke-width:0.8;\" x=\"45.321307\" xlink:href=\"#mbeb5c75c69\" y=\"224.64\"/>\n      </g>\n     </g>\n     <g id=\"text_1\">\n      <!-- $\\mathdefault{10^{-2}}$ -->\n      <g transform=\"translate(33.571307 239.238438)scale(0.1 -0.1)\">\n       <defs>\n        <path d=\"M 794 531 \nL 1825 531 \nL 1825 4091 \nL 703 3866 \nL 703 4441 \nL 1819 4666 \nL 2450 4666 \nL 2450 531 \nL 3481 531 \nL 3481 0 \nL 794 0 \nL 794 531 \nz\n\" id=\"DejaVuSans-31\" transform=\"scale(0.015625)\"/>\n        <path d=\"M 2034 4250 \nQ 1547 4250 1301 3770 \nQ 1056 3291 1056 2328 \nQ 1056 1369 1301 889 \nQ 1547 409 2034 409 \nQ 2525 409 2770 889 \nQ 3016 1369 3016 2328 \nQ 3016 3291 2770 3770 \nQ 2525 4250 2034 4250 \nz\nM 2034 4750 \nQ 2819 4750 3233 4129 \nQ 3647 3509 3647 2328 \nQ 3647 1150 3233 529 \nQ 2819 -91 2034 -91 \nQ 1250 -91 836 529 \nQ 422 1150 422 2328 \nQ 422 3509 836 4129 \nQ 1250 4750 2034 4750 \nz\n\" id=\"DejaVuSans-30\" transform=\"scale(0.015625)\"/>\n        <path d=\"M 678 2272 \nL 4684 2272 \nL 4684 1741 \nL 678 1741 \nL 678 2272 \nz\n\" id=\"DejaVuSans-2212\" transform=\"scale(0.015625)\"/>\n        <path d=\"M 1228 531 \nL 3431 531 \nL 3431 0 \nL 469 0 \nL 469 531 \nQ 828 903 1448 1529 \nQ 2069 2156 2228 2338 \nQ 2531 2678 2651 2914 \nQ 2772 3150 2772 3378 \nQ 2772 3750 2511 3984 \nQ 2250 4219 1831 4219 \nQ 1534 4219 1204 4116 \nQ 875 4013 500 3803 \nL 500 4441 \nQ 881 4594 1212 4672 \nQ 1544 4750 1819 4750 \nQ 2544 4750 2975 4387 \nQ 3406 4025 3406 3419 \nQ 3406 3131 3298 2873 \nQ 3191 2616 2906 2266 \nQ 2828 2175 2409 1742 \nQ 1991 1309 1228 531 \nz\n\" id=\"DejaVuSans-32\" transform=\"scale(0.015625)\"/>\n       </defs>\n       <use transform=\"translate(0 0.765625)\" xlink:href=\"#DejaVuSans-31\"/>\n       <use transform=\"translate(63.623047 0.765625)\" xlink:href=\"#DejaVuSans-30\"/>\n       <use transform=\"translate(128.203125 39.046875)scale(0.7)\" xlink:href=\"#DejaVuSans-2212\"/>\n       <use transform=\"translate(186.855469 39.046875)scale(0.7)\" xlink:href=\"#DejaVuSans-32\"/>\n      </g>\n     </g>\n    </g>\n    <g id=\"xtick_2\">\n     <g id=\"line2d_2\">\n      <g>\n       <use style=\"stroke:#000000;stroke-width:0.8;\" x=\"197.503125\" xlink:href=\"#mbeb5c75c69\" y=\"224.64\"/>\n      </g>\n     </g>\n     <g id=\"text_2\">\n      <!-- $\\mathdefault{10^{-1}}$ -->\n      <g transform=\"translate(185.753125 239.238438)scale(0.1 -0.1)\">\n       <use transform=\"translate(0 0.684375)\" xlink:href=\"#DejaVuSans-31\"/>\n       <use transform=\"translate(63.623047 0.684375)\" xlink:href=\"#DejaVuSans-30\"/>\n       <use transform=\"translate(128.203125 38.965625)scale(0.7)\" xlink:href=\"#DejaVuSans-2212\"/>\n       <use transform=\"translate(186.855469 38.965625)scale(0.7)\" xlink:href=\"#DejaVuSans-31\"/>\n      </g>\n     </g>\n    </g>\n    <g id=\"xtick_3\">\n     <g id=\"line2d_3\">\n      <g>\n       <use style=\"stroke:#000000;stroke-width:0.8;\" x=\"349.684943\" xlink:href=\"#mbeb5c75c69\" y=\"224.64\"/>\n      </g>\n     </g>\n     <g id=\"text_3\">\n      <!-- $\\mathdefault{10^{0}}$ -->\n      <g transform=\"translate(340.884943 239.238438)scale(0.1 -0.1)\">\n       <use transform=\"translate(0 0.765625)\" xlink:href=\"#DejaVuSans-31\"/>\n       <use transform=\"translate(63.623047 0.765625)\" xlink:href=\"#DejaVuSans-30\"/>\n       <use transform=\"translate(128.203125 39.046875)scale(0.7)\" xlink:href=\"#DejaVuSans-30\"/>\n      </g>\n     </g>\n    </g>\n    <g id=\"xtick_4\">\n     <g id=\"line2d_4\">\n      <defs>\n       <path d=\"M 0 0 \nL 0 2 \n\" id=\"mc06a90bea9\" style=\"stroke:#000000;stroke-width:0.6;\"/>\n      </defs>\n      <g>\n       <use style=\"stroke:#000000;stroke-width:0.6;\" x=\"30.573365\" xlink:href=\"#mc06a90bea9\" y=\"224.64\"/>\n      </g>\n     </g>\n    </g>\n    <g id=\"xtick_5\">\n     <g id=\"line2d_5\">\n      <g>\n       <use style=\"stroke:#000000;stroke-width:0.6;\" x=\"38.357849\" xlink:href=\"#mc06a90bea9\" y=\"224.64\"/>\n      </g>\n     </g>\n    </g>\n    <g id=\"xtick_6\">\n     <g id=\"line2d_6\">\n      <g>\n       <use style=\"stroke:#000000;stroke-width:0.6;\" x=\"91.132599\" xlink:href=\"#mc06a90bea9\" y=\"224.64\"/>\n      </g>\n     </g>\n    </g>\n    <g id=\"xtick_7\">\n     <g id=\"line2d_7\">\n      <g>\n       <use style=\"stroke:#000000;stroke-width:0.6;\" x=\"117.930487\" xlink:href=\"#mc06a90bea9\" y=\"224.64\"/>\n      </g>\n     </g>\n    </g>\n    <g id=\"xtick_8\">\n     <g id=\"line2d_8\">\n      <g>\n       <use style=\"stroke:#000000;stroke-width:0.6;\" x=\"136.943891\" xlink:href=\"#mc06a90bea9\" y=\"224.64\"/>\n      </g>\n     </g>\n    </g>\n    <g id=\"xtick_9\">\n     <g id=\"line2d_9\">\n      <g>\n       <use style=\"stroke:#000000;stroke-width:0.6;\" x=\"151.691833\" xlink:href=\"#mc06a90bea9\" y=\"224.64\"/>\n      </g>\n     </g>\n    </g>\n    <g id=\"xtick_10\">\n     <g id=\"line2d_10\">\n      <g>\n       <use style=\"stroke:#000000;stroke-width:0.6;\" x=\"163.741779\" xlink:href=\"#mc06a90bea9\" y=\"224.64\"/>\n      </g>\n     </g>\n    </g>\n    <g id=\"xtick_11\">\n     <g id=\"line2d_11\">\n      <g>\n       <use style=\"stroke:#000000;stroke-width:0.6;\" x=\"173.929863\" xlink:href=\"#mc06a90bea9\" y=\"224.64\"/>\n      </g>\n     </g>\n    </g>\n    <g id=\"xtick_12\">\n     <g id=\"line2d_12\">\n      <g>\n       <use style=\"stroke:#000000;stroke-width:0.6;\" x=\"182.755183\" xlink:href=\"#mc06a90bea9\" y=\"224.64\"/>\n      </g>\n     </g>\n    </g>\n    <g id=\"xtick_13\">\n     <g id=\"line2d_13\">\n      <g>\n       <use style=\"stroke:#000000;stroke-width:0.6;\" x=\"190.539667\" xlink:href=\"#mc06a90bea9\" y=\"224.64\"/>\n      </g>\n     </g>\n    </g>\n    <g id=\"xtick_14\">\n     <g id=\"line2d_14\">\n      <g>\n       <use style=\"stroke:#000000;stroke-width:0.6;\" x=\"243.314417\" xlink:href=\"#mc06a90bea9\" y=\"224.64\"/>\n      </g>\n     </g>\n    </g>\n    <g id=\"xtick_15\">\n     <g id=\"line2d_15\">\n      <g>\n       <use style=\"stroke:#000000;stroke-width:0.6;\" x=\"270.112305\" xlink:href=\"#mc06a90bea9\" y=\"224.64\"/>\n      </g>\n     </g>\n    </g>\n    <g id=\"xtick_16\">\n     <g id=\"line2d_16\">\n      <g>\n       <use style=\"stroke:#000000;stroke-width:0.6;\" x=\"289.125709\" xlink:href=\"#mc06a90bea9\" y=\"224.64\"/>\n      </g>\n     </g>\n    </g>\n    <g id=\"xtick_17\">\n     <g id=\"line2d_17\">\n      <g>\n       <use style=\"stroke:#000000;stroke-width:0.6;\" x=\"303.873651\" xlink:href=\"#mc06a90bea9\" y=\"224.64\"/>\n      </g>\n     </g>\n    </g>\n    <g id=\"xtick_18\">\n     <g id=\"line2d_18\">\n      <g>\n       <use style=\"stroke:#000000;stroke-width:0.6;\" x=\"315.923597\" xlink:href=\"#mc06a90bea9\" y=\"224.64\"/>\n      </g>\n     </g>\n    </g>\n    <g id=\"xtick_19\">\n     <g id=\"line2d_19\">\n      <g>\n       <use style=\"stroke:#000000;stroke-width:0.6;\" x=\"326.111681\" xlink:href=\"#mc06a90bea9\" y=\"224.64\"/>\n      </g>\n     </g>\n    </g>\n    <g id=\"xtick_20\">\n     <g id=\"line2d_20\">\n      <g>\n       <use style=\"stroke:#000000;stroke-width:0.6;\" x=\"334.937001\" xlink:href=\"#mc06a90bea9\" y=\"224.64\"/>\n      </g>\n     </g>\n    </g>\n    <g id=\"xtick_21\">\n     <g id=\"line2d_21\">\n      <g>\n       <use style=\"stroke:#000000;stroke-width:0.6;\" x=\"342.721485\" xlink:href=\"#mc06a90bea9\" y=\"224.64\"/>\n      </g>\n     </g>\n    </g>\n    <g id=\"text_4\">\n     <!-- $\\lambda$ -->\n     <g transform=\"translate(192.703125 257.475625)scale(0.16 -0.16)\">\n      <defs>\n       <path d=\"M 2350 4316 \nL 3125 0 \nL 2516 0 \nL 2038 2588 \nL 328 0 \nL -281 0 \nL 1903 3356 \nL 1794 3975 \nQ 1725 4369 1391 4369 \nL 1091 4369 \nL 1184 4863 \nL 1550 4856 \nQ 2253 4847 2350 4316 \nz\n\" id=\"DejaVuSans-Oblique-3bb\" transform=\"scale(0.015625)\"/>\n      </defs>\n      <use transform=\"translate(0 0.015625)\" xlink:href=\"#DejaVuSans-Oblique-3bb\"/>\n     </g>\n    </g>\n   </g>\n   <g id=\"matplotlib.axis_2\">\n    <g id=\"ytick_1\">\n     <g id=\"line2d_22\">\n      <defs>\n       <path d=\"M 0 0 \nL -3.5 0 \n\" id=\"m3a597159b3\" style=\"stroke:#000000;stroke-width:0.8;\"/>\n      </defs>\n      <g>\n       <use style=\"stroke:#000000;stroke-width:0.8;\" x=\"30.103125\" xlink:href=\"#m3a597159b3\" y=\"207.728\"/>\n      </g>\n     </g>\n     <g id=\"text_5\">\n      <!-- 0.1 -->\n      <g transform=\"translate(7.2 211.527219)scale(0.1 -0.1)\">\n       <defs>\n        <path d=\"M 684 794 \nL 1344 794 \nL 1344 0 \nL 684 0 \nL 684 794 \nz\n\" id=\"DejaVuSans-2e\" transform=\"scale(0.015625)\"/>\n       </defs>\n       <use xlink:href=\"#DejaVuSans-30\"/>\n       <use x=\"63.623047\" xlink:href=\"#DejaVuSans-2e\"/>\n       <use x=\"95.410156\" xlink:href=\"#DejaVuSans-31\"/>\n      </g>\n     </g>\n    </g>\n    <g id=\"ytick_2\">\n     <g id=\"line2d_23\">\n      <g>\n       <use style=\"stroke:#000000;stroke-width:0.8;\" x=\"30.103125\" xlink:href=\"#m3a597159b3\" y=\"163.800727\"/>\n      </g>\n     </g>\n     <g id=\"text_6\">\n      <!-- 0.2 -->\n      <g transform=\"translate(7.2 167.599946)scale(0.1 -0.1)\">\n       <use xlink:href=\"#DejaVuSans-30\"/>\n       <use x=\"63.623047\" xlink:href=\"#DejaVuSans-2e\"/>\n       <use x=\"95.410156\" xlink:href=\"#DejaVuSans-32\"/>\n      </g>\n     </g>\n    </g>\n    <g id=\"ytick_3\">\n     <g id=\"line2d_24\">\n      <g>\n       <use style=\"stroke:#000000;stroke-width:0.8;\" x=\"30.103125\" xlink:href=\"#m3a597159b3\" y=\"119.873455\"/>\n      </g>\n     </g>\n     <g id=\"text_7\">\n      <!-- 0.3 -->\n      <g transform=\"translate(7.2 123.672673)scale(0.1 -0.1)\">\n       <defs>\n        <path d=\"M 2597 2516 \nQ 3050 2419 3304 2112 \nQ 3559 1806 3559 1356 \nQ 3559 666 3084 287 \nQ 2609 -91 1734 -91 \nQ 1441 -91 1130 -33 \nQ 819 25 488 141 \nL 488 750 \nQ 750 597 1062 519 \nQ 1375 441 1716 441 \nQ 2309 441 2620 675 \nQ 2931 909 2931 1356 \nQ 2931 1769 2642 2001 \nQ 2353 2234 1838 2234 \nL 1294 2234 \nL 1294 2753 \nL 1863 2753 \nQ 2328 2753 2575 2939 \nQ 2822 3125 2822 3475 \nQ 2822 3834 2567 4026 \nQ 2313 4219 1838 4219 \nQ 1578 4219 1281 4162 \nQ 984 4106 628 3988 \nL 628 4550 \nQ 988 4650 1302 4700 \nQ 1616 4750 1894 4750 \nQ 2613 4750 3031 4423 \nQ 3450 4097 3450 3541 \nQ 3450 3153 3228 2886 \nQ 3006 2619 2597 2516 \nz\n\" id=\"DejaVuSans-33\" transform=\"scale(0.015625)\"/>\n       </defs>\n       <use xlink:href=\"#DejaVuSans-30\"/>\n       <use x=\"63.623047\" xlink:href=\"#DejaVuSans-2e\"/>\n       <use x=\"95.410156\" xlink:href=\"#DejaVuSans-33\"/>\n      </g>\n     </g>\n    </g>\n    <g id=\"ytick_4\">\n     <g id=\"line2d_25\">\n      <g>\n       <use style=\"stroke:#000000;stroke-width:0.8;\" x=\"30.103125\" xlink:href=\"#m3a597159b3\" y=\"75.946182\"/>\n      </g>\n     </g>\n     <g id=\"text_8\">\n      <!-- 0.4 -->\n      <g transform=\"translate(7.2 79.745401)scale(0.1 -0.1)\">\n       <defs>\n        <path d=\"M 2419 4116 \nL 825 1625 \nL 2419 1625 \nL 2419 4116 \nz\nM 2253 4666 \nL 3047 4666 \nL 3047 1625 \nL 3713 1625 \nL 3713 1100 \nL 3047 1100 \nL 3047 0 \nL 2419 0 \nL 2419 1100 \nL 313 1100 \nL 313 1709 \nL 2253 4666 \nz\n\" id=\"DejaVuSans-34\" transform=\"scale(0.015625)\"/>\n       </defs>\n       <use xlink:href=\"#DejaVuSans-30\"/>\n       <use x=\"63.623047\" xlink:href=\"#DejaVuSans-2e\"/>\n       <use x=\"95.410156\" xlink:href=\"#DejaVuSans-34\"/>\n      </g>\n     </g>\n    </g>\n    <g id=\"ytick_5\">\n     <g id=\"line2d_26\">\n      <g>\n       <use style=\"stroke:#000000;stroke-width:0.8;\" x=\"30.103125\" xlink:href=\"#m3a597159b3\" y=\"32.018909\"/>\n      </g>\n     </g>\n     <g id=\"text_9\">\n      <!-- 0.5 -->\n      <g transform=\"translate(7.2 35.818128)scale(0.1 -0.1)\">\n       <defs>\n        <path d=\"M 691 4666 \nL 3169 4666 \nL 3169 4134 \nL 1269 4134 \nL 1269 2991 \nQ 1406 3038 1543 3061 \nQ 1681 3084 1819 3084 \nQ 2600 3084 3056 2656 \nQ 3513 2228 3513 1497 \nQ 3513 744 3044 326 \nQ 2575 -91 1722 -91 \nQ 1428 -91 1123 -41 \nQ 819 9 494 109 \nL 494 744 \nQ 775 591 1075 516 \nQ 1375 441 1709 441 \nQ 2250 441 2565 725 \nQ 2881 1009 2881 1497 \nQ 2881 1984 2565 2268 \nQ 2250 2553 1709 2553 \nQ 1456 2553 1204 2497 \nQ 953 2441 691 2322 \nL 691 4666 \nz\n\" id=\"DejaVuSans-35\" transform=\"scale(0.015625)\"/>\n       </defs>\n       <use xlink:href=\"#DejaVuSans-30\"/>\n       <use x=\"63.623047\" xlink:href=\"#DejaVuSans-2e\"/>\n       <use x=\"95.410156\" xlink:href=\"#DejaVuSans-35\"/>\n      </g>\n     </g>\n    </g>\n   </g>\n   <g id=\"line2d_27\">\n    <path clip-path=\"url(#p0a13c5e8c6)\" d=\"M 45.321307 186.203636 \nL 48.395687 187.521455 \nL 51.470067 187.082182 \nL 54.544447 187.082182 \nL 57.618827 187.082182 \nL 60.693208 187.082182 \nL 63.767588 186.642909 \nL 66.841968 187.960727 \nL 69.916348 188.4 \nL 72.990728 188.4 \nL 76.065108 187.082182 \nL 79.139489 187.960727 \nL 82.213869 187.082182 \nL 85.288249 186.642909 \nL 88.362629 186.642909 \nL 91.437009 186.642909 \nL 94.511389 186.642909 \nL 97.58577 187.082182 \nL 100.66015 186.203636 \nL 103.73453 186.203636 \nL 106.80891 186.203636 \nL 109.88329 187.960727 \nL 112.95767 186.642909 \nL 116.032051 188.4 \nL 119.106431 190.157091 \nL 122.180811 190.157091 \nL 125.255191 190.157091 \nL 128.329571 190.157091 \nL 131.403951 190.596364 \nL 134.478332 190.596364 \nL 137.552712 190.157091 \nL 140.627092 189.278545 \nL 143.701472 189.717818 \nL 146.775852 191.914182 \nL 149.850232 192.353455 \nL 152.924613 193.232 \nL 155.998993 193.671273 \nL 159.073373 194.110545 \nL 162.147753 194.549818 \nL 165.222133 194.110545 \nL 168.296513 194.989091 \nL 171.370894 196.746182 \nL 174.445274 195.867636 \nL 177.519654 196.746182 \nL 180.594034 198.064 \nL 183.668414 200.699636 \nL 186.742794 201.138909 \nL 189.817175 199.821091 \nL 192.891555 198.942545 \nL 195.965935 199.381818 \nL 199.040315 199.821091 \nL 202.114695 199.381818 \nL 205.189075 199.821091 \nL 208.263456 201.138909 \nL 211.337836 206.849455 \nL 214.412216 207.728 \nL 217.486596 208.606545 \nL 220.560976 209.045818 \nL 223.635356 205.531636 \nL 226.709737 210.363636 \nL 229.784117 210.363636 \nL 232.858497 212.120727 \nL 235.932877 210.363636 \nL 239.007257 208.606545 \nL 242.081637 210.802909 \nL 245.156018 210.363636 \nL 248.230398 209.485091 \nL 251.304778 210.802909 \nL 254.379158 211.681455 \nL 257.453538 211.681455 \nL 260.527918 211.681455 \nL 263.602299 213.877818 \nL 266.676679 212.120727 \nL 269.751059 211.242182 \nL 272.825439 206.410182 \nL 275.899819 205.531636 \nL 278.974199 199.381818 \nL 282.04858 194.549818 \nL 285.12296 193.232 \nL 288.19734 192.353455 \nL 291.27172 178.296727 \nL 294.3461 176.100364 \nL 297.42048 176.978909 \nL 300.494861 176.100364 \nL 303.569241 171.707636 \nL 306.643621 162.482909 \nL 309.718001 159.408 \nL 312.792381 158.529455 \nL 315.866761 157.650909 \nL 318.941142 154.576 \nL 322.015522 147.547636 \nL 325.089902 33.776 \nL 328.164282 33.776 \nL 331.238662 33.776 \nL 334.313042 33.776 \nL 337.387423 33.776 \nL 340.461803 33.776 \nL 343.536183 33.776 \nL 346.610563 33.776 \nL 349.684943 33.776 \n\" style=\"fill:none;stroke:#1f77b4;stroke-linecap:square;stroke-width:1.5;\"/>\n   </g>\n   <g id=\"line2d_28\">\n    <path clip-path=\"url(#p0a13c5e8c6)\" d=\"M 45.321307 182.250182 \nL 48.395687 182.250182 \nL 51.470067 181.371636 \nL 54.544447 181.371636 \nL 57.618827 182.250182 \nL 60.693208 182.250182 \nL 63.767588 182.689455 \nL 66.841968 183.568 \nL 69.916348 184.885818 \nL 72.990728 185.764364 \nL 76.065108 184.885818 \nL 79.139489 185.764364 \nL 82.213869 185.764364 \nL 85.288249 185.325091 \nL 88.362629 185.325091 \nL 91.437009 185.325091 \nL 94.511389 185.325091 \nL 97.58577 185.325091 \nL 100.66015 184.446545 \nL 103.73453 184.446545 \nL 106.80891 184.446545 \nL 109.88329 184.885818 \nL 112.95767 184.446545 \nL 116.032051 186.642909 \nL 119.106431 186.642909 \nL 122.180811 187.082182 \nL 125.255191 187.082182 \nL 128.329571 187.960727 \nL 131.403951 189.717818 \nL 134.478332 189.278545 \nL 137.552712 187.960727 \nL 140.627092 188.839273 \nL 143.701472 190.157091 \nL 146.775852 191.474909 \nL 149.850232 191.914182 \nL 152.924613 191.035636 \nL 155.998993 191.914182 \nL 159.073373 193.232 \nL 162.147753 194.110545 \nL 165.222133 194.989091 \nL 168.296513 194.989091 \nL 171.370894 194.549818 \nL 174.445274 196.306909 \nL 177.519654 197.624727 \nL 180.594034 195.867636 \nL 183.668414 195.428364 \nL 186.742794 193.671273 \nL 189.817175 196.306909 \nL 192.891555 195.428364 \nL 195.965935 195.867636 \nL 199.040315 195.867636 \nL 202.114695 195.867636 \nL 205.189075 198.064 \nL 208.263456 201.138909 \nL 211.337836 202.017455 \nL 214.412216 201.578182 \nL 217.486596 201.578182 \nL 220.560976 204.213818 \nL 223.635356 203.774545 \nL 226.709737 209.485091 \nL 229.784117 209.485091 \nL 232.858497 211.681455 \nL 235.932877 209.924364 \nL 239.007257 212.120727 \nL 242.081637 211.242182 \nL 245.156018 211.242182 \nL 248.230398 211.681455 \nL 251.304778 212.56 \nL 254.379158 212.120727 \nL 257.453538 211.681455 \nL 260.527918 212.120727 \nL 263.602299 214.317091 \nL 266.676679 214.756364 \nL 269.751059 211.242182 \nL 272.825439 207.288727 \nL 275.899819 206.410182 \nL 278.974199 202.456727 \nL 282.04858 199.821091 \nL 285.12296 198.503273 \nL 288.19734 198.942545 \nL 291.27172 184.885818 \nL 294.3461 184.446545 \nL 297.42048 184.007273 \nL 300.494861 180.932364 \nL 303.569241 178.736 \nL 306.643621 173.464727 \nL 309.718001 173.464727 \nL 312.792381 166.436364 \nL 315.866761 166.436364 \nL 318.941142 162.043636 \nL 322.015522 148.426182 \nL 325.089902 17.083636 \nL 328.164282 17.083636 \nL 331.238662 17.083636 \nL 334.313042 17.083636 \nL 337.387423 17.083636 \nL 340.461803 17.083636 \nL 343.536183 17.083636 \nL 346.610563 17.083636 \nL 349.684943 17.083636 \n\" style=\"fill:none;stroke:#ff7f0e;stroke-linecap:square;stroke-width:1.5;\"/>\n   </g>\n   <g id=\"patch_3\">\n    <path d=\"M 30.103125 224.64 \nL 30.103125 7.2 \n\" style=\"fill:none;stroke:#000000;stroke-linecap:square;stroke-linejoin:miter;stroke-width:0.8;\"/>\n   </g>\n   <g id=\"patch_4\">\n    <path d=\"M 364.903125 224.64 \nL 364.903125 7.2 \n\" style=\"fill:none;stroke:#000000;stroke-linecap:square;stroke-linejoin:miter;stroke-width:0.8;\"/>\n   </g>\n   <g id=\"patch_5\">\n    <path d=\"M 30.103125 224.64 \nL 364.903125 224.64 \n\" style=\"fill:none;stroke:#000000;stroke-linecap:square;stroke-linejoin:miter;stroke-width:0.8;\"/>\n   </g>\n   <g id=\"patch_6\">\n    <path d=\"M 30.103125 7.2 \nL 364.903125 7.2 \n\" style=\"fill:none;stroke:#000000;stroke-linecap:square;stroke-linejoin:miter;stroke-width:0.8;\"/>\n   </g>\n   <g id=\"legend_1\">\n    <g id=\"patch_7\">\n     <path d=\"M 37.103125 44.55625 \nL 120.473438 44.55625 \nQ 122.473438 44.55625 122.473438 42.55625 \nL 122.473438 14.2 \nQ 122.473438 12.2 120.473438 12.2 \nL 37.103125 12.2 \nQ 35.103125 12.2 35.103125 14.2 \nL 35.103125 42.55625 \nQ 35.103125 44.55625 37.103125 44.55625 \nz\n\" style=\"fill:#ffffff;opacity:0.8;stroke:#cccccc;stroke-linejoin:miter;\"/>\n    </g>\n    <g id=\"line2d_29\">\n     <path d=\"M 39.103125 20.298438 \nL 59.103125 20.298438 \n\" style=\"fill:none;stroke:#1f77b4;stroke-linecap:square;stroke-width:1.5;\"/>\n    </g>\n    <g id=\"line2d_30\"/>\n    <g id=\"text_10\">\n     <!-- Train error -->\n     <g transform=\"translate(67.103125 23.798438)scale(0.1 -0.1)\">\n      <defs>\n       <path d=\"M -19 4666 \nL 3928 4666 \nL 3928 4134 \nL 2272 4134 \nL 2272 0 \nL 1638 0 \nL 1638 4134 \nL -19 4134 \nL -19 4666 \nz\n\" id=\"DejaVuSans-54\" transform=\"scale(0.015625)\"/>\n       <path d=\"M 2631 2963 \nQ 2534 3019 2420 3045 \nQ 2306 3072 2169 3072 \nQ 1681 3072 1420 2755 \nQ 1159 2438 1159 1844 \nL 1159 0 \nL 581 0 \nL 581 3500 \nL 1159 3500 \nL 1159 2956 \nQ 1341 3275 1631 3429 \nQ 1922 3584 2338 3584 \nQ 2397 3584 2469 3576 \nQ 2541 3569 2628 3553 \nL 2631 2963 \nz\n\" id=\"DejaVuSans-72\" transform=\"scale(0.015625)\"/>\n       <path d=\"M 2194 1759 \nQ 1497 1759 1228 1600 \nQ 959 1441 959 1056 \nQ 959 750 1161 570 \nQ 1363 391 1709 391 \nQ 2188 391 2477 730 \nQ 2766 1069 2766 1631 \nL 2766 1759 \nL 2194 1759 \nz\nM 3341 1997 \nL 3341 0 \nL 2766 0 \nL 2766 531 \nQ 2569 213 2275 61 \nQ 1981 -91 1556 -91 \nQ 1019 -91 701 211 \nQ 384 513 384 1019 \nQ 384 1609 779 1909 \nQ 1175 2209 1959 2209 \nL 2766 2209 \nL 2766 2266 \nQ 2766 2663 2505 2880 \nQ 2244 3097 1772 3097 \nQ 1472 3097 1187 3025 \nQ 903 2953 641 2809 \nL 641 3341 \nQ 956 3463 1253 3523 \nQ 1550 3584 1831 3584 \nQ 2591 3584 2966 3190 \nQ 3341 2797 3341 1997 \nz\n\" id=\"DejaVuSans-61\" transform=\"scale(0.015625)\"/>\n       <path d=\"M 603 3500 \nL 1178 3500 \nL 1178 0 \nL 603 0 \nL 603 3500 \nz\nM 603 4863 \nL 1178 4863 \nL 1178 4134 \nL 603 4134 \nL 603 4863 \nz\n\" id=\"DejaVuSans-69\" transform=\"scale(0.015625)\"/>\n       <path d=\"M 3513 2113 \nL 3513 0 \nL 2938 0 \nL 2938 2094 \nQ 2938 2591 2744 2837 \nQ 2550 3084 2163 3084 \nQ 1697 3084 1428 2787 \nQ 1159 2491 1159 1978 \nL 1159 0 \nL 581 0 \nL 581 3500 \nL 1159 3500 \nL 1159 2956 \nQ 1366 3272 1645 3428 \nQ 1925 3584 2291 3584 \nQ 2894 3584 3203 3211 \nQ 3513 2838 3513 2113 \nz\n\" id=\"DejaVuSans-6e\" transform=\"scale(0.015625)\"/>\n       <path id=\"DejaVuSans-20\" transform=\"scale(0.015625)\"/>\n       <path d=\"M 3597 1894 \nL 3597 1613 \nL 953 1613 \nQ 991 1019 1311 708 \nQ 1631 397 2203 397 \nQ 2534 397 2845 478 \nQ 3156 559 3463 722 \nL 3463 178 \nQ 3153 47 2828 -22 \nQ 2503 -91 2169 -91 \nQ 1331 -91 842 396 \nQ 353 884 353 1716 \nQ 353 2575 817 3079 \nQ 1281 3584 2069 3584 \nQ 2775 3584 3186 3129 \nQ 3597 2675 3597 1894 \nz\nM 3022 2063 \nQ 3016 2534 2758 2815 \nQ 2500 3097 2075 3097 \nQ 1594 3097 1305 2825 \nQ 1016 2553 972 2059 \nL 3022 2063 \nz\n\" id=\"DejaVuSans-65\" transform=\"scale(0.015625)\"/>\n       <path d=\"M 1959 3097 \nQ 1497 3097 1228 2736 \nQ 959 2375 959 1747 \nQ 959 1119 1226 758 \nQ 1494 397 1959 397 \nQ 2419 397 2687 759 \nQ 2956 1122 2956 1747 \nQ 2956 2369 2687 2733 \nQ 2419 3097 1959 3097 \nz\nM 1959 3584 \nQ 2709 3584 3137 3096 \nQ 3566 2609 3566 1747 \nQ 3566 888 3137 398 \nQ 2709 -91 1959 -91 \nQ 1206 -91 779 398 \nQ 353 888 353 1747 \nQ 353 2609 779 3096 \nQ 1206 3584 1959 3584 \nz\n\" id=\"DejaVuSans-6f\" transform=\"scale(0.015625)\"/>\n      </defs>\n      <use xlink:href=\"#DejaVuSans-54\"/>\n      <use x=\"46.333984\" xlink:href=\"#DejaVuSans-72\"/>\n      <use x=\"87.447266\" xlink:href=\"#DejaVuSans-61\"/>\n      <use x=\"148.726562\" xlink:href=\"#DejaVuSans-69\"/>\n      <use x=\"176.509766\" xlink:href=\"#DejaVuSans-6e\"/>\n      <use x=\"239.888672\" xlink:href=\"#DejaVuSans-20\"/>\n      <use x=\"271.675781\" xlink:href=\"#DejaVuSans-65\"/>\n      <use x=\"333.199219\" xlink:href=\"#DejaVuSans-72\"/>\n      <use x=\"372.5625\" xlink:href=\"#DejaVuSans-72\"/>\n      <use x=\"411.425781\" xlink:href=\"#DejaVuSans-6f\"/>\n      <use x=\"472.607422\" xlink:href=\"#DejaVuSans-72\"/>\n     </g>\n    </g>\n    <g id=\"line2d_31\">\n     <path d=\"M 39.103125 34.976562 \nL 59.103125 34.976562 \n\" style=\"fill:none;stroke:#ff7f0e;stroke-linecap:square;stroke-width:1.5;\"/>\n    </g>\n    <g id=\"line2d_32\"/>\n    <g id=\"text_11\">\n     <!-- Test error -->\n     <g transform=\"translate(67.103125 38.476562)scale(0.1 -0.1)\">\n      <defs>\n       <path d=\"M 2834 3397 \nL 2834 2853 \nQ 2591 2978 2328 3040 \nQ 2066 3103 1784 3103 \nQ 1356 3103 1142 2972 \nQ 928 2841 928 2578 \nQ 928 2378 1081 2264 \nQ 1234 2150 1697 2047 \nL 1894 2003 \nQ 2506 1872 2764 1633 \nQ 3022 1394 3022 966 \nQ 3022 478 2636 193 \nQ 2250 -91 1575 -91 \nQ 1294 -91 989 -36 \nQ 684 19 347 128 \nL 347 722 \nQ 666 556 975 473 \nQ 1284 391 1588 391 \nQ 1994 391 2212 530 \nQ 2431 669 2431 922 \nQ 2431 1156 2273 1281 \nQ 2116 1406 1581 1522 \nL 1381 1569 \nQ 847 1681 609 1914 \nQ 372 2147 372 2553 \nQ 372 3047 722 3315 \nQ 1072 3584 1716 3584 \nQ 2034 3584 2315 3537 \nQ 2597 3491 2834 3397 \nz\n\" id=\"DejaVuSans-73\" transform=\"scale(0.015625)\"/>\n       <path d=\"M 1172 4494 \nL 1172 3500 \nL 2356 3500 \nL 2356 3053 \nL 1172 3053 \nL 1172 1153 \nQ 1172 725 1289 603 \nQ 1406 481 1766 481 \nL 2356 481 \nL 2356 0 \nL 1766 0 \nQ 1100 0 847 248 \nQ 594 497 594 1153 \nL 594 3053 \nL 172 3053 \nL 172 3500 \nL 594 3500 \nL 594 4494 \nL 1172 4494 \nz\n\" id=\"DejaVuSans-74\" transform=\"scale(0.015625)\"/>\n      </defs>\n      <use xlink:href=\"#DejaVuSans-54\"/>\n      <use x=\"44.083984\" xlink:href=\"#DejaVuSans-65\"/>\n      <use x=\"105.607422\" xlink:href=\"#DejaVuSans-73\"/>\n      <use x=\"157.707031\" xlink:href=\"#DejaVuSans-74\"/>\n      <use x=\"196.916016\" xlink:href=\"#DejaVuSans-20\"/>\n      <use x=\"228.703125\" xlink:href=\"#DejaVuSans-65\"/>\n      <use x=\"290.226562\" xlink:href=\"#DejaVuSans-72\"/>\n      <use x=\"329.589844\" xlink:href=\"#DejaVuSans-72\"/>\n      <use x=\"368.453125\" xlink:href=\"#DejaVuSans-6f\"/>\n      <use x=\"429.634766\" xlink:href=\"#DejaVuSans-72\"/>\n     </g>\n    </g>\n   </g>\n  </g>\n </g>\n <defs>\n  <clipPath id=\"p0a13c5e8c6\">\n   <rect height=\"217.44\" width=\"334.8\" x=\"30.103125\" y=\"7.2\"/>\n  </clipPath>\n </defs>\n</svg>\n",
      "text/plain": [
       "<Figure size 432x288 with 1 Axes>"
      ]
     },
     "metadata": {
      "needs_background": "light"
     },
     "output_type": "display_data"
    }
   ],
   "source": [
    "# Plot the train and test error over the trade-off curve.\n",
    "import matplotlib.pyplot as plt\n",
    "%matplotlib inline\n",
    "%config InlineBackend.figure_format = 'svg'\n",
    "\n",
    "plt.plot(lambda_vals, train_error, label=\"Train error\")\n",
    "plt.plot(lambda_vals, test_error, label=\"Test error\")\n",
    "plt.xscale('log')\n",
    "plt.legend(loc='upper left')\n",
    "plt.xlabel(r\"$\\lambda$\", fontsize=16)\n",
    "plt.show()"
   ]
  },
  {
   "cell_type": "markdown",
   "metadata": {},
   "source": [
    "## Synthetic dataset"
   ]
  },
  {
   "cell_type": "code",
   "execution_count": 15,
   "metadata": {},
   "outputs": [
    {
     "data": {
      "image/svg+xml": "<?xml version=\"1.0\" encoding=\"utf-8\" standalone=\"no\"?>\n<!DOCTYPE svg PUBLIC \"-//W3C//DTD SVG 1.1//EN\"\n  \"http://www.w3.org/Graphics/SVG/1.1/DTD/svg11.dtd\">\n<svg height=\"248.518125pt\" version=\"1.1\" viewBox=\"0 0 370.942187 248.518125\" width=\"370.942187pt\" xmlns=\"http://www.w3.org/2000/svg\" xmlns:xlink=\"http://www.w3.org/1999/xlink\">\n <metadata>\n  <rdf:RDF xmlns:cc=\"http://creativecommons.org/ns#\" xmlns:dc=\"http://purl.org/dc/elements/1.1/\" xmlns:rdf=\"http://www.w3.org/1999/02/22-rdf-syntax-ns#\">\n   <cc:Work>\n    <dc:type rdf:resource=\"http://purl.org/dc/dcmitype/StillImage\"/>\n    <dc:date>2021-10-30T17:34:08.210648</dc:date>\n    <dc:format>image/svg+xml</dc:format>\n    <dc:creator>\n     <cc:Agent>\n      <dc:title>Matplotlib v3.4.3, https://matplotlib.org/</dc:title>\n     </cc:Agent>\n    </dc:creator>\n   </cc:Work>\n  </rdf:RDF>\n </metadata>\n <defs>\n  <style type=\"text/css\">*{stroke-linecap:butt;stroke-linejoin:round;}</style>\n </defs>\n <g id=\"figure_1\">\n  <g id=\"patch_1\">\n   <path d=\"M 0 248.518125 \nL 370.942187 248.518125 \nL 370.942187 0 \nL 0 0 \nz\n\" style=\"fill:none;\"/>\n  </g>\n  <g id=\"axes_1\">\n   <g id=\"patch_2\">\n    <path d=\"M 28.942188 224.64 \nL 363.742188 224.64 \nL 363.742188 7.2 \nL 28.942188 7.2 \nz\n\" style=\"fill:#ffffff;\"/>\n   </g>\n   <g id=\"matplotlib.axis_1\">\n    <g id=\"xtick_1\">\n     <g id=\"line2d_1\">\n      <defs>\n       <path d=\"M 0 0 \nL 0 3.5 \n\" id=\"m8d39d3a742\" style=\"stroke:#000000;stroke-width:0.8;\"/>\n      </defs>\n      <g>\n       <use style=\"stroke:#000000;stroke-width:0.8;\" x=\"62.777138\" xlink:href=\"#m8d39d3a742\" y=\"224.64\"/>\n      </g>\n     </g>\n     <g id=\"text_1\">\n      <!-- −4 -->\n      <g transform=\"translate(55.406044 239.238437)scale(0.1 -0.1)\">\n       <defs>\n        <path d=\"M 678 2272 \nL 4684 2272 \nL 4684 1741 \nL 678 1741 \nL 678 2272 \nz\n\" id=\"DejaVuSans-2212\" transform=\"scale(0.015625)\"/>\n        <path d=\"M 2419 4116 \nL 825 1625 \nL 2419 1625 \nL 2419 4116 \nz\nM 2253 4666 \nL 3047 4666 \nL 3047 1625 \nL 3713 1625 \nL 3713 1100 \nL 3047 1100 \nL 3047 0 \nL 2419 0 \nL 2419 1100 \nL 313 1100 \nL 313 1709 \nL 2253 4666 \nz\n\" id=\"DejaVuSans-34\" transform=\"scale(0.015625)\"/>\n       </defs>\n       <use xlink:href=\"#DejaVuSans-2212\"/>\n       <use x=\"83.789062\" xlink:href=\"#DejaVuSans-34\"/>\n      </g>\n     </g>\n    </g>\n    <g id=\"xtick_2\">\n     <g id=\"line2d_2\">\n      <g>\n       <use style=\"stroke:#000000;stroke-width:0.8;\" x=\"123.455661\" xlink:href=\"#m8d39d3a742\" y=\"224.64\"/>\n      </g>\n     </g>\n     <g id=\"text_2\">\n      <!-- −2 -->\n      <g transform=\"translate(116.084567 239.238437)scale(0.1 -0.1)\">\n       <defs>\n        <path d=\"M 1228 531 \nL 3431 531 \nL 3431 0 \nL 469 0 \nL 469 531 \nQ 828 903 1448 1529 \nQ 2069 2156 2228 2338 \nQ 2531 2678 2651 2914 \nQ 2772 3150 2772 3378 \nQ 2772 3750 2511 3984 \nQ 2250 4219 1831 4219 \nQ 1534 4219 1204 4116 \nQ 875 4013 500 3803 \nL 500 4441 \nQ 881 4594 1212 4672 \nQ 1544 4750 1819 4750 \nQ 2544 4750 2975 4387 \nQ 3406 4025 3406 3419 \nQ 3406 3131 3298 2873 \nQ 3191 2616 2906 2266 \nQ 2828 2175 2409 1742 \nQ 1991 1309 1228 531 \nz\n\" id=\"DejaVuSans-32\" transform=\"scale(0.015625)\"/>\n       </defs>\n       <use xlink:href=\"#DejaVuSans-2212\"/>\n       <use x=\"83.789062\" xlink:href=\"#DejaVuSans-32\"/>\n      </g>\n     </g>\n    </g>\n    <g id=\"xtick_3\">\n     <g id=\"line2d_3\">\n      <g>\n       <use style=\"stroke:#000000;stroke-width:0.8;\" x=\"184.134185\" xlink:href=\"#m8d39d3a742\" y=\"224.64\"/>\n      </g>\n     </g>\n     <g id=\"text_3\">\n      <!-- 0 -->\n      <g transform=\"translate(180.952935 239.238437)scale(0.1 -0.1)\">\n       <defs>\n        <path d=\"M 2034 4250 \nQ 1547 4250 1301 3770 \nQ 1056 3291 1056 2328 \nQ 1056 1369 1301 889 \nQ 1547 409 2034 409 \nQ 2525 409 2770 889 \nQ 3016 1369 3016 2328 \nQ 3016 3291 2770 3770 \nQ 2525 4250 2034 4250 \nz\nM 2034 4750 \nQ 2819 4750 3233 4129 \nQ 3647 3509 3647 2328 \nQ 3647 1150 3233 529 \nQ 2819 -91 2034 -91 \nQ 1250 -91 836 529 \nQ 422 1150 422 2328 \nQ 422 3509 836 4129 \nQ 1250 4750 2034 4750 \nz\n\" id=\"DejaVuSans-30\" transform=\"scale(0.015625)\"/>\n       </defs>\n       <use xlink:href=\"#DejaVuSans-30\"/>\n      </g>\n     </g>\n    </g>\n    <g id=\"xtick_4\">\n     <g id=\"line2d_4\">\n      <g>\n       <use style=\"stroke:#000000;stroke-width:0.8;\" x=\"244.812708\" xlink:href=\"#m8d39d3a742\" y=\"224.64\"/>\n      </g>\n     </g>\n     <g id=\"text_4\">\n      <!-- 2 -->\n      <g transform=\"translate(241.631458 239.238437)scale(0.1 -0.1)\">\n       <use xlink:href=\"#DejaVuSans-32\"/>\n      </g>\n     </g>\n    </g>\n    <g id=\"xtick_5\">\n     <g id=\"line2d_5\">\n      <g>\n       <use style=\"stroke:#000000;stroke-width:0.8;\" x=\"305.491231\" xlink:href=\"#m8d39d3a742\" y=\"224.64\"/>\n      </g>\n     </g>\n     <g id=\"text_5\">\n      <!-- 4 -->\n      <g transform=\"translate(302.309981 239.238437)scale(0.1 -0.1)\">\n       <use xlink:href=\"#DejaVuSans-34\"/>\n      </g>\n     </g>\n    </g>\n   </g>\n   <g id=\"matplotlib.axis_2\">\n    <g id=\"ytick_1\">\n     <g id=\"line2d_6\">\n      <defs>\n       <path d=\"M 0 0 \nL -3.5 0 \n\" id=\"m88d6177847\" style=\"stroke:#000000;stroke-width:0.8;\"/>\n      </defs>\n      <g>\n       <use style=\"stroke:#000000;stroke-width:0.8;\" x=\"28.942188\" xlink:href=\"#m88d6177847\" y=\"207.248158\"/>\n      </g>\n     </g>\n     <g id=\"text_6\">\n      <!-- −3 -->\n      <g transform=\"translate(7.2 211.047377)scale(0.1 -0.1)\">\n       <defs>\n        <path d=\"M 2597 2516 \nQ 3050 2419 3304 2112 \nQ 3559 1806 3559 1356 \nQ 3559 666 3084 287 \nQ 2609 -91 1734 -91 \nQ 1441 -91 1130 -33 \nQ 819 25 488 141 \nL 488 750 \nQ 750 597 1062 519 \nQ 1375 441 1716 441 \nQ 2309 441 2620 675 \nQ 2931 909 2931 1356 \nQ 2931 1769 2642 2001 \nQ 2353 2234 1838 2234 \nL 1294 2234 \nL 1294 2753 \nL 1863 2753 \nQ 2328 2753 2575 2939 \nQ 2822 3125 2822 3475 \nQ 2822 3834 2567 4026 \nQ 2313 4219 1838 4219 \nQ 1578 4219 1281 4162 \nQ 984 4106 628 3988 \nL 628 4550 \nQ 988 4650 1302 4700 \nQ 1616 4750 1894 4750 \nQ 2613 4750 3031 4423 \nQ 3450 4097 3450 3541 \nQ 3450 3153 3228 2886 \nQ 3006 2619 2597 2516 \nz\n\" id=\"DejaVuSans-33\" transform=\"scale(0.015625)\"/>\n       </defs>\n       <use xlink:href=\"#DejaVuSans-2212\"/>\n       <use x=\"83.789062\" xlink:href=\"#DejaVuSans-33\"/>\n      </g>\n     </g>\n    </g>\n    <g id=\"ytick_2\">\n     <g id=\"line2d_7\">\n      <g>\n       <use style=\"stroke:#000000;stroke-width:0.8;\" x=\"28.942188\" xlink:href=\"#m88d6177847\" y=\"176.908896\"/>\n      </g>\n     </g>\n     <g id=\"text_7\">\n      <!-- −2 -->\n      <g transform=\"translate(7.2 180.708115)scale(0.1 -0.1)\">\n       <use xlink:href=\"#DejaVuSans-2212\"/>\n       <use x=\"83.789062\" xlink:href=\"#DejaVuSans-32\"/>\n      </g>\n     </g>\n    </g>\n    <g id=\"ytick_3\">\n     <g id=\"line2d_8\">\n      <g>\n       <use style=\"stroke:#000000;stroke-width:0.8;\" x=\"28.942188\" xlink:href=\"#m88d6177847\" y=\"146.569635\"/>\n      </g>\n     </g>\n     <g id=\"text_8\">\n      <!-- −1 -->\n      <g transform=\"translate(7.2 150.368853)scale(0.1 -0.1)\">\n       <defs>\n        <path d=\"M 794 531 \nL 1825 531 \nL 1825 4091 \nL 703 3866 \nL 703 4441 \nL 1819 4666 \nL 2450 4666 \nL 2450 531 \nL 3481 531 \nL 3481 0 \nL 794 0 \nL 794 531 \nz\n\" id=\"DejaVuSans-31\" transform=\"scale(0.015625)\"/>\n       </defs>\n       <use xlink:href=\"#DejaVuSans-2212\"/>\n       <use x=\"83.789062\" xlink:href=\"#DejaVuSans-31\"/>\n      </g>\n     </g>\n    </g>\n    <g id=\"ytick_4\">\n     <g id=\"line2d_9\">\n      <g>\n       <use style=\"stroke:#000000;stroke-width:0.8;\" x=\"28.942188\" xlink:href=\"#m88d6177847\" y=\"116.230373\"/>\n      </g>\n     </g>\n     <g id=\"text_9\">\n      <!-- 0 -->\n      <g transform=\"translate(15.579688 120.029592)scale(0.1 -0.1)\">\n       <use xlink:href=\"#DejaVuSans-30\"/>\n      </g>\n     </g>\n    </g>\n    <g id=\"ytick_5\">\n     <g id=\"line2d_10\">\n      <g>\n       <use style=\"stroke:#000000;stroke-width:0.8;\" x=\"28.942188\" xlink:href=\"#m88d6177847\" y=\"85.891111\"/>\n      </g>\n     </g>\n     <g id=\"text_10\">\n      <!-- 1 -->\n      <g transform=\"translate(15.579688 89.69033)scale(0.1 -0.1)\">\n       <use xlink:href=\"#DejaVuSans-31\"/>\n      </g>\n     </g>\n    </g>\n    <g id=\"ytick_6\">\n     <g id=\"line2d_11\">\n      <g>\n       <use style=\"stroke:#000000;stroke-width:0.8;\" x=\"28.942188\" xlink:href=\"#m88d6177847\" y=\"55.55185\"/>\n      </g>\n     </g>\n     <g id=\"text_11\">\n      <!-- 2 -->\n      <g transform=\"translate(15.579688 59.351068)scale(0.1 -0.1)\">\n       <use xlink:href=\"#DejaVuSans-32\"/>\n      </g>\n     </g>\n    </g>\n    <g id=\"ytick_7\">\n     <g id=\"line2d_12\">\n      <g>\n       <use style=\"stroke:#000000;stroke-width:0.8;\" x=\"28.942188\" xlink:href=\"#m88d6177847\" y=\"25.212588\"/>\n      </g>\n     </g>\n     <g id=\"text_12\">\n      <!-- 3 -->\n      <g transform=\"translate(15.579688 29.011807)scale(0.1 -0.1)\">\n       <use xlink:href=\"#DejaVuSans-33\"/>\n      </g>\n     </g>\n    </g>\n   </g>\n   <g id=\"line2d_13\">\n    <defs>\n     <path d=\"M -3 3 \nL 3 -3 \nM -3 -3 \nL 3 3 \n\" id=\"mbd1797274e\" style=\"stroke:#1f77b4;\"/>\n    </defs>\n    <g clip-path=\"url(#p0a8483a572)\">\n     <use style=\"fill:#1f77b4;stroke:#1f77b4;\" x=\"137.232039\" xlink:href=\"#mbd1797274e\" y=\"90.967738\"/>\n     <use style=\"fill:#1f77b4;stroke:#1f77b4;\" x=\"133.153793\" xlink:href=\"#mbd1797274e\" y=\"80.676146\"/>\n     <use style=\"fill:#1f77b4;stroke:#1f77b4;\" x=\"127.329055\" xlink:href=\"#mbd1797274e\" y=\"91.515291\"/>\n     <use style=\"fill:#1f77b4;stroke:#1f77b4;\" x=\"159.838799\" xlink:href=\"#mbd1797274e\" y=\"34.067893\"/>\n     <use style=\"fill:#1f77b4;stroke:#1f77b4;\" x=\"141.525334\" xlink:href=\"#mbd1797274e\" y=\"60.181091\"/>\n     <use style=\"fill:#1f77b4;stroke:#1f77b4;\" x=\"176.876508\" xlink:href=\"#mbd1797274e\" y=\"125.330276\"/>\n     <use style=\"fill:#1f77b4;stroke:#1f77b4;\" x=\"166.300611\" xlink:href=\"#mbd1797274e\" y=\"97.202607\"/>\n     <use style=\"fill:#1f77b4;stroke:#1f77b4;\" x=\"152.05388\" xlink:href=\"#mbd1797274e\" y=\"98.060093\"/>\n     <use style=\"fill:#1f77b4;stroke:#1f77b4;\" x=\"116.673079\" xlink:href=\"#mbd1797274e\" y=\"104.533038\"/>\n     <use style=\"fill:#1f77b4;stroke:#1f77b4;\" x=\"154.658988\" xlink:href=\"#mbd1797274e\" y=\"70.106595\"/>\n     <use style=\"fill:#1f77b4;stroke:#1f77b4;\" x=\"172.952381\" xlink:href=\"#mbd1797274e\" y=\"90.360514\"/>\n     <use style=\"fill:#1f77b4;stroke:#1f77b4;\" x=\"134.800169\" xlink:href=\"#mbd1797274e\" y=\"135.13806\"/>\n     <use style=\"fill:#1f77b4;stroke:#1f77b4;\" x=\"186.072208\" xlink:href=\"#mbd1797274e\" y=\"58.755557\"/>\n     <use style=\"fill:#1f77b4;stroke:#1f77b4;\" x=\"182.476239\" xlink:href=\"#mbd1797274e\" y=\"64.582171\"/>\n     <use style=\"fill:#1f77b4;stroke:#1f77b4;\" x=\"171.663008\" xlink:href=\"#mbd1797274e\" y=\"58.652033\"/>\n     <use style=\"fill:#1f77b4;stroke:#1f77b4;\" x=\"201.577175\" xlink:href=\"#mbd1797274e\" y=\"101.722844\"/>\n     <use style=\"fill:#1f77b4;stroke:#1f77b4;\" x=\"101.679411\" xlink:href=\"#mbd1797274e\" y=\"93.479864\"/>\n     <use style=\"fill:#1f77b4;stroke:#1f77b4;\" x=\"128.766764\" xlink:href=\"#mbd1797274e\" y=\"116.932688\"/>\n     <use style=\"fill:#1f77b4;stroke:#1f77b4;\" x=\"184.135803\" xlink:href=\"#mbd1797274e\" y=\"89.457426\"/>\n     <use style=\"fill:#1f77b4;stroke:#1f77b4;\" x=\"152.04758\" xlink:href=\"#mbd1797274e\" y=\"54.021165\"/>\n     <use style=\"fill:#1f77b4;stroke:#1f77b4;\" x=\"184.175406\" xlink:href=\"#mbd1797274e\" y=\"62.815391\"/>\n     <use style=\"fill:#1f77b4;stroke:#1f77b4;\" x=\"104.373756\" xlink:href=\"#mbd1797274e\" y=\"156.480597\"/>\n     <use style=\"fill:#1f77b4;stroke:#1f77b4;\" x=\"138.384047\" xlink:href=\"#mbd1797274e\" y=\"127.582944\"/>\n     <use style=\"fill:#1f77b4;stroke:#1f77b4;\" x=\"154.032349\" xlink:href=\"#mbd1797274e\" y=\"53.918245\"/>\n     <use style=\"fill:#1f77b4;stroke:#1f77b4;\" x=\"151.78261\" xlink:href=\"#mbd1797274e\" y=\"111.984349\"/>\n     <use style=\"fill:#1f77b4;stroke:#1f77b4;\" x=\"145.575009\" xlink:href=\"#mbd1797274e\" y=\"124.369433\"/>\n     <use style=\"fill:#1f77b4;stroke:#1f77b4;\" x=\"147.083953\" xlink:href=\"#mbd1797274e\" y=\"47.613527\"/>\n     <use style=\"fill:#1f77b4;stroke:#1f77b4;\" x=\"118.079118\" xlink:href=\"#mbd1797274e\" y=\"127.601185\"/>\n     <use style=\"fill:#1f77b4;stroke:#1f77b4;\" x=\"185.386504\" xlink:href=\"#mbd1797274e\" y=\"83.479066\"/>\n     <use style=\"fill:#1f77b4;stroke:#1f77b4;\" x=\"137.115137\" xlink:href=\"#mbd1797274e\" y=\"61.686711\"/>\n     <use style=\"fill:#1f77b4;stroke:#1f77b4;\" x=\"145.990011\" xlink:href=\"#mbd1797274e\" y=\"168.207025\"/>\n     <use style=\"fill:#1f77b4;stroke:#1f77b4;\" x=\"177.907733\" xlink:href=\"#mbd1797274e\" y=\"92.24439\"/>\n     <use style=\"fill:#1f77b4;stroke:#1f77b4;\" x=\"198.447336\" xlink:href=\"#mbd1797274e\" y=\"93.019434\"/>\n     <use style=\"fill:#1f77b4;stroke:#1f77b4;\" x=\"157.887985\" xlink:href=\"#mbd1797274e\" y=\"75.562654\"/>\n     <use style=\"fill:#1f77b4;stroke:#1f77b4;\" x=\"112.779874\" xlink:href=\"#mbd1797274e\" y=\"73.827505\"/>\n     <use style=\"fill:#1f77b4;stroke:#1f77b4;\" x=\"127.539899\" xlink:href=\"#mbd1797274e\" y=\"84.636719\"/>\n     <use style=\"fill:#1f77b4;stroke:#1f77b4;\" x=\"182.634184\" xlink:href=\"#mbd1797274e\" y=\"107.961753\"/>\n     <use style=\"fill:#1f77b4;stroke:#1f77b4;\" x=\"148.947324\" xlink:href=\"#mbd1797274e\" y=\"79.266368\"/>\n     <use style=\"fill:#1f77b4;stroke:#1f77b4;\" x=\"136.63001\" xlink:href=\"#mbd1797274e\" y=\"101.066622\"/>\n     <use style=\"fill:#1f77b4;stroke:#1f77b4;\" x=\"133.201864\" xlink:href=\"#mbd1797274e\" y=\"65.796614\"/>\n     <use style=\"fill:#1f77b4;stroke:#1f77b4;\" x=\"128.872124\" xlink:href=\"#mbd1797274e\" y=\"140.293306\"/>\n     <use style=\"fill:#1f77b4;stroke:#1f77b4;\" x=\"139.443002\" xlink:href=\"#mbd1797274e\" y=\"114.506586\"/>\n     <use style=\"fill:#1f77b4;stroke:#1f77b4;\" x=\"123.418064\" xlink:href=\"#mbd1797274e\" y=\"58.316089\"/>\n     <use style=\"fill:#1f77b4;stroke:#1f77b4;\" x=\"187.138887\" xlink:href=\"#mbd1797274e\" y=\"140.55442\"/>\n     <use style=\"fill:#1f77b4;stroke:#1f77b4;\" x=\"146.485595\" xlink:href=\"#mbd1797274e\" y=\"88.149705\"/>\n     <use style=\"fill:#1f77b4;stroke:#1f77b4;\" x=\"185.768477\" xlink:href=\"#mbd1797274e\" y=\"45.447751\"/>\n     <use style=\"fill:#1f77b4;stroke:#1f77b4;\" x=\"154.580492\" xlink:href=\"#mbd1797274e\" y=\"123.192745\"/>\n     <use style=\"fill:#1f77b4;stroke:#1f77b4;\" x=\"199.420853\" xlink:href=\"#mbd1797274e\" y=\"106.603745\"/>\n     <use style=\"fill:#1f77b4;stroke:#1f77b4;\" x=\"159.684578\" xlink:href=\"#mbd1797274e\" y=\"103.532838\"/>\n     <use style=\"fill:#1f77b4;stroke:#1f77b4;\" x=\"121.769763\" xlink:href=\"#mbd1797274e\" y=\"77.485881\"/>\n     <use style=\"fill:#1f77b4;stroke:#1f77b4;\" x=\"146.734466\" xlink:href=\"#mbd1797274e\" y=\"100.017984\"/>\n     <use style=\"fill:#1f77b4;stroke:#1f77b4;\" x=\"163.776167\" xlink:href=\"#mbd1797274e\" y=\"97.336296\"/>\n     <use style=\"fill:#1f77b4;stroke:#1f77b4;\" x=\"172.525457\" xlink:href=\"#mbd1797274e\" y=\"102.991444\"/>\n     <use style=\"fill:#1f77b4;stroke:#1f77b4;\" x=\"104.905444\" xlink:href=\"#mbd1797274e\" y=\"106.720873\"/>\n     <use style=\"fill:#1f77b4;stroke:#1f77b4;\" x=\"148.469475\" xlink:href=\"#mbd1797274e\" y=\"123.006565\"/>\n     <use style=\"fill:#1f77b4;stroke:#1f77b4;\" x=\"179.490046\" xlink:href=\"#mbd1797274e\" y=\"47.842638\"/>\n     <use style=\"fill:#1f77b4;stroke:#1f77b4;\" x=\"150.857206\" xlink:href=\"#mbd1797274e\" y=\"102.401178\"/>\n     <use style=\"fill:#1f77b4;stroke:#1f77b4;\" x=\"128.28851\" xlink:href=\"#mbd1797274e\" y=\"67.863213\"/>\n     <use style=\"fill:#1f77b4;stroke:#1f77b4;\" x=\"153.053811\" xlink:href=\"#mbd1797274e\" y=\"32.717313\"/>\n     <use style=\"fill:#1f77b4;stroke:#1f77b4;\" x=\"155.326209\" xlink:href=\"#mbd1797274e\" y=\"58.093137\"/>\n     <use style=\"fill:#1f77b4;stroke:#1f77b4;\" x=\"134.756153\" xlink:href=\"#mbd1797274e\" y=\"86.287954\"/>\n     <use style=\"fill:#1f77b4;stroke:#1f77b4;\" x=\"175.075396\" xlink:href=\"#mbd1797274e\" y=\"62.61989\"/>\n     <use style=\"fill:#1f77b4;stroke:#1f77b4;\" x=\"184.732133\" xlink:href=\"#mbd1797274e\" y=\"118.13739\"/>\n     <use style=\"fill:#1f77b4;stroke:#1f77b4;\" x=\"163.891169\" xlink:href=\"#mbd1797274e\" y=\"130.86395\"/>\n     <use style=\"fill:#1f77b4;stroke:#1f77b4;\" x=\"172.825269\" xlink:href=\"#mbd1797274e\" y=\"17.083636\"/>\n     <use style=\"fill:#1f77b4;stroke:#1f77b4;\" x=\"171.891463\" xlink:href=\"#mbd1797274e\" y=\"136.567182\"/>\n     <use style=\"fill:#1f77b4;stroke:#1f77b4;\" x=\"186.771876\" xlink:href=\"#mbd1797274e\" y=\"168.699423\"/>\n     <use style=\"fill:#1f77b4;stroke:#1f77b4;\" x=\"144.737813\" xlink:href=\"#mbd1797274e\" y=\"91.597363\"/>\n     <use style=\"fill:#1f77b4;stroke:#1f77b4;\" x=\"145.58753\" xlink:href=\"#mbd1797274e\" y=\"109.415636\"/>\n     <use style=\"fill:#1f77b4;stroke:#1f77b4;\" x=\"177.275014\" xlink:href=\"#mbd1797274e\" y=\"74.307957\"/>\n     <use style=\"fill:#1f77b4;stroke:#1f77b4;\" x=\"198.017525\" xlink:href=\"#mbd1797274e\" y=\"48.753213\"/>\n     <use style=\"fill:#1f77b4;stroke:#1f77b4;\" x=\"145.150934\" xlink:href=\"#mbd1797274e\" y=\"78.080765\"/>\n     <use style=\"fill:#1f77b4;stroke:#1f77b4;\" x=\"175.669911\" xlink:href=\"#mbd1797274e\" y=\"67.130086\"/>\n     <use style=\"fill:#1f77b4;stroke:#1f77b4;\" x=\"97.679803\" xlink:href=\"#mbd1797274e\" y=\"87.988649\"/>\n     <use style=\"fill:#1f77b4;stroke:#1f77b4;\" x=\"147.437637\" xlink:href=\"#mbd1797274e\" y=\"71.70872\"/>\n     <use style=\"fill:#1f77b4;stroke:#1f77b4;\" x=\"208.227007\" xlink:href=\"#mbd1797274e\" y=\"80.610156\"/>\n     <use style=\"fill:#1f77b4;stroke:#1f77b4;\" x=\"125.366698\" xlink:href=\"#mbd1797274e\" y=\"81.808045\"/>\n     <use style=\"fill:#1f77b4;stroke:#1f77b4;\" x=\"136.585803\" xlink:href=\"#mbd1797274e\" y=\"112.062852\"/>\n     <use style=\"fill:#1f77b4;stroke:#1f77b4;\" x=\"148.076091\" xlink:href=\"#mbd1797274e\" y=\"136.693358\"/>\n     <use style=\"fill:#1f77b4;stroke:#1f77b4;\" x=\"109.813917\" xlink:href=\"#mbd1797274e\" y=\"57.438814\"/>\n     <use style=\"fill:#1f77b4;stroke:#1f77b4;\" x=\"200.932867\" xlink:href=\"#mbd1797274e\" y=\"117.66744\"/>\n     <use style=\"fill:#1f77b4;stroke:#1f77b4;\" x=\"191.306908\" xlink:href=\"#mbd1797274e\" y=\"92.60756\"/>\n     <use style=\"fill:#1f77b4;stroke:#1f77b4;\" x=\"190.604734\" xlink:href=\"#mbd1797274e\" y=\"42.034167\"/>\n     <use style=\"fill:#1f77b4;stroke:#1f77b4;\" x=\"168.426782\" xlink:href=\"#mbd1797274e\" y=\"66.769273\"/>\n     <use style=\"fill:#1f77b4;stroke:#1f77b4;\" x=\"171.383153\" xlink:href=\"#mbd1797274e\" y=\"106.867409\"/>\n     <use style=\"fill:#1f77b4;stroke:#1f77b4;\" x=\"182.002448\" xlink:href=\"#mbd1797274e\" y=\"86.828721\"/>\n     <use style=\"fill:#1f77b4;stroke:#1f77b4;\" x=\"123.903054\" xlink:href=\"#mbd1797274e\" y=\"92.257719\"/>\n     <use style=\"fill:#1f77b4;stroke:#1f77b4;\" x=\"182.998204\" xlink:href=\"#mbd1797274e\" y=\"31.708157\"/>\n     <use style=\"fill:#1f77b4;stroke:#1f77b4;\" x=\"168.78898\" xlink:href=\"#mbd1797274e\" y=\"48.862432\"/>\n     <use style=\"fill:#1f77b4;stroke:#1f77b4;\" x=\"133.307351\" xlink:href=\"#mbd1797274e\" y=\"110.005089\"/>\n     <use style=\"fill:#1f77b4;stroke:#1f77b4;\" x=\"174.218128\" xlink:href=\"#mbd1797274e\" y=\"97.578077\"/>\n     <use style=\"fill:#1f77b4;stroke:#1f77b4;\" x=\"126.129976\" xlink:href=\"#mbd1797274e\" y=\"59.127152\"/>\n     <use style=\"fill:#1f77b4;stroke:#1f77b4;\" x=\"140.037335\" xlink:href=\"#mbd1797274e\" y=\"96.98421\"/>\n     <use style=\"fill:#1f77b4;stroke:#1f77b4;\" x=\"168.294556\" xlink:href=\"#mbd1797274e\" y=\"124.274405\"/>\n     <use style=\"fill:#1f77b4;stroke:#1f77b4;\" x=\"164.640064\" xlink:href=\"#mbd1797274e\" y=\"144.06422\"/>\n     <use style=\"fill:#1f77b4;stroke:#1f77b4;\" x=\"95.196168\" xlink:href=\"#mbd1797274e\" y=\"77.856016\"/>\n     <use style=\"fill:#1f77b4;stroke:#1f77b4;\" x=\"166.03065\" xlink:href=\"#mbd1797274e\" y=\"77.188284\"/>\n     <use style=\"fill:#1f77b4;stroke:#1f77b4;\" x=\"193.430464\" xlink:href=\"#mbd1797274e\" y=\"40.554293\"/>\n     <use style=\"fill:#1f77b4;stroke:#1f77b4;\" x=\"211.703339\" xlink:href=\"#mbd1797274e\" y=\"61.169686\"/>\n     <use style=\"fill:#1f77b4;stroke:#1f77b4;\" x=\"166.091356\" xlink:href=\"#mbd1797274e\" y=\"99.07861\"/>\n    </g>\n   </g>\n   <g id=\"line2d_14\">\n    <defs>\n     <path d=\"M -3 3 \nL 3 -3 \nM -3 -3 \nL 3 3 \n\" id=\"m96fb905d94\" style=\"stroke:#ff7f0e;\"/>\n    </defs>\n    <g clip-path=\"url(#p0a8483a572)\">\n     <use style=\"fill:#ff7f0e;stroke:#ff7f0e;\" x=\"256.659885\" xlink:href=\"#m96fb905d94\" y=\"187.446824\"/>\n     <use style=\"fill:#ff7f0e;stroke:#ff7f0e;\" x=\"221.749457\" xlink:href=\"#m96fb905d94\" y=\"151.834126\"/>\n     <use style=\"fill:#ff7f0e;stroke:#ff7f0e;\" x=\"243.799282\" xlink:href=\"#m96fb905d94\" y=\"112.464659\"/>\n     <use style=\"fill:#ff7f0e;stroke:#ff7f0e;\" x=\"222.983207\" xlink:href=\"#m96fb905d94\" y=\"129.935229\"/>\n     <use style=\"fill:#ff7f0e;stroke:#ff7f0e;\" x=\"189.095538\" xlink:href=\"#m96fb905d94\" y=\"111.536811\"/>\n     <use style=\"fill:#ff7f0e;stroke:#ff7f0e;\" x=\"168.00165\" xlink:href=\"#m96fb905d94\" y=\"191.740456\"/>\n     <use style=\"fill:#ff7f0e;stroke:#ff7f0e;\" x=\"220.173396\" xlink:href=\"#m96fb905d94\" y=\"191.004248\"/>\n     <use style=\"fill:#ff7f0e;stroke:#ff7f0e;\" x=\"186.938697\" xlink:href=\"#m96fb905d94\" y=\"168.395148\"/>\n     <use style=\"fill:#ff7f0e;stroke:#ff7f0e;\" x=\"243.708986\" xlink:href=\"#m96fb905d94\" y=\"134.83047\"/>\n     <use style=\"fill:#ff7f0e;stroke:#ff7f0e;\" x=\"222.780876\" xlink:href=\"#m96fb905d94\" y=\"123.725853\"/>\n     <use style=\"fill:#ff7f0e;stroke:#ff7f0e;\" x=\"203.277791\" xlink:href=\"#m96fb905d94\" y=\"165.236828\"/>\n     <use style=\"fill:#ff7f0e;stroke:#ff7f0e;\" x=\"204.710272\" xlink:href=\"#m96fb905d94\" y=\"127.745112\"/>\n     <use style=\"fill:#ff7f0e;stroke:#ff7f0e;\" x=\"203.526412\" xlink:href=\"#m96fb905d94\" y=\"129.28773\"/>\n     <use style=\"fill:#ff7f0e;stroke:#ff7f0e;\" x=\"228.155048\" xlink:href=\"#m96fb905d94\" y=\"148.451805\"/>\n     <use style=\"fill:#ff7f0e;stroke:#ff7f0e;\" x=\"261.704965\" xlink:href=\"#m96fb905d94\" y=\"109.563434\"/>\n     <use style=\"fill:#ff7f0e;stroke:#ff7f0e;\" x=\"251.325877\" xlink:href=\"#m96fb905d94\" y=\"158.054128\"/>\n     <use style=\"fill:#ff7f0e;stroke:#ff7f0e;\" x=\"268.05732\" xlink:href=\"#m96fb905d94\" y=\"136.763059\"/>\n     <use style=\"fill:#ff7f0e;stroke:#ff7f0e;\" x=\"219.103593\" xlink:href=\"#m96fb905d94\" y=\"195.290474\"/>\n     <use style=\"fill:#ff7f0e;stroke:#ff7f0e;\" x=\"194.509237\" xlink:href=\"#m96fb905d94\" y=\"81.559207\"/>\n     <use style=\"fill:#ff7f0e;stroke:#ff7f0e;\" x=\"253.126512\" xlink:href=\"#m96fb905d94\" y=\"146.558838\"/>\n     <use style=\"fill:#ff7f0e;stroke:#ff7f0e;\" x=\"132.790772\" xlink:href=\"#m96fb905d94\" y=\"144.014276\"/>\n     <use style=\"fill:#ff7f0e;stroke:#ff7f0e;\" x=\"177.281205\" xlink:href=\"#m96fb905d94\" y=\"108.44137\"/>\n     <use style=\"fill:#ff7f0e;stroke:#ff7f0e;\" x=\"190.041031\" xlink:href=\"#m96fb905d94\" y=\"198.794644\"/>\n     <use style=\"fill:#ff7f0e;stroke:#ff7f0e;\" x=\"188.156747\" xlink:href=\"#m96fb905d94\" y=\"145.580041\"/>\n     <use style=\"fill:#ff7f0e;stroke:#ff7f0e;\" x=\"210.988647\" xlink:href=\"#m96fb905d94\" y=\"75.571497\"/>\n     <use style=\"fill:#ff7f0e;stroke:#ff7f0e;\" x=\"174.592704\" xlink:href=\"#m96fb905d94\" y=\"135.385149\"/>\n     <use style=\"fill:#ff7f0e;stroke:#ff7f0e;\" x=\"195.801017\" xlink:href=\"#m96fb905d94\" y=\"146.710777\"/>\n     <use style=\"fill:#ff7f0e;stroke:#ff7f0e;\" x=\"229.143343\" xlink:href=\"#m96fb905d94\" y=\"172.218679\"/>\n     <use style=\"fill:#ff7f0e;stroke:#ff7f0e;\" x=\"175.589131\" xlink:href=\"#m96fb905d94\" y=\"140.110689\"/>\n     <use style=\"fill:#ff7f0e;stroke:#ff7f0e;\" x=\"200.105531\" xlink:href=\"#m96fb905d94\" y=\"147.904119\"/>\n     <use style=\"fill:#ff7f0e;stroke:#ff7f0e;\" x=\"220.618276\" xlink:href=\"#m96fb905d94\" y=\"129.331002\"/>\n     <use style=\"fill:#ff7f0e;stroke:#ff7f0e;\" x=\"235.439162\" xlink:href=\"#m96fb905d94\" y=\"94.625186\"/>\n     <use style=\"fill:#ff7f0e;stroke:#ff7f0e;\" x=\"201.461828\" xlink:href=\"#m96fb905d94\" y=\"173.272632\"/>\n     <use style=\"fill:#ff7f0e;stroke:#ff7f0e;\" x=\"246.937329\" xlink:href=\"#m96fb905d94\" y=\"138.11286\"/>\n     <use style=\"fill:#ff7f0e;stroke:#ff7f0e;\" x=\"230.718897\" xlink:href=\"#m96fb905d94\" y=\"148.890975\"/>\n     <use style=\"fill:#ff7f0e;stroke:#ff7f0e;\" x=\"222.167092\" xlink:href=\"#m96fb905d94\" y=\"126.575019\"/>\n     <use style=\"fill:#ff7f0e;stroke:#ff7f0e;\" x=\"197.809762\" xlink:href=\"#m96fb905d94\" y=\"129.522662\"/>\n     <use style=\"fill:#ff7f0e;stroke:#ff7f0e;\" x=\"209.670809\" xlink:href=\"#m96fb905d94\" y=\"120.584212\"/>\n     <use style=\"fill:#ff7f0e;stroke:#ff7f0e;\" x=\"207.449716\" xlink:href=\"#m96fb905d94\" y=\"122.946606\"/>\n     <use style=\"fill:#ff7f0e;stroke:#ff7f0e;\" x=\"267.777008\" xlink:href=\"#m96fb905d94\" y=\"146.485374\"/>\n     <use style=\"fill:#ff7f0e;stroke:#ff7f0e;\" x=\"241.206002\" xlink:href=\"#m96fb905d94\" y=\"162.521961\"/>\n     <use style=\"fill:#ff7f0e;stroke:#ff7f0e;\" x=\"247.946433\" xlink:href=\"#m96fb905d94\" y=\"133.976724\"/>\n     <use style=\"fill:#ff7f0e;stroke:#ff7f0e;\" x=\"180.997852\" xlink:href=\"#m96fb905d94\" y=\"146.680561\"/>\n     <use style=\"fill:#ff7f0e;stroke:#ff7f0e;\" x=\"258.081176\" xlink:href=\"#m96fb905d94\" y=\"144.861217\"/>\n     <use style=\"fill:#ff7f0e;stroke:#ff7f0e;\" x=\"241.17869\" xlink:href=\"#m96fb905d94\" y=\"139.270758\"/>\n     <use style=\"fill:#ff7f0e;stroke:#ff7f0e;\" x=\"259.013989\" xlink:href=\"#m96fb905d94\" y=\"88.291302\"/>\n     <use style=\"fill:#ff7f0e;stroke:#ff7f0e;\" x=\"234.455587\" xlink:href=\"#m96fb905d94\" y=\"171.670313\"/>\n     <use style=\"fill:#ff7f0e;stroke:#ff7f0e;\" x=\"233.300197\" xlink:href=\"#m96fb905d94\" y=\"138.225112\"/>\n     <use style=\"fill:#ff7f0e;stroke:#ff7f0e;\" x=\"223.445175\" xlink:href=\"#m96fb905d94\" y=\"117.563982\"/>\n     <use style=\"fill:#ff7f0e;stroke:#ff7f0e;\" x=\"190.207291\" xlink:href=\"#m96fb905d94\" y=\"214.756364\"/>\n     <use style=\"fill:#ff7f0e;stroke:#ff7f0e;\" x=\"235.095147\" xlink:href=\"#m96fb905d94\" y=\"205.078032\"/>\n     <use style=\"fill:#ff7f0e;stroke:#ff7f0e;\" x=\"198.012705\" xlink:href=\"#m96fb905d94\" y=\"101.176211\"/>\n     <use style=\"fill:#ff7f0e;stroke:#ff7f0e;\" x=\"206.278565\" xlink:href=\"#m96fb905d94\" y=\"147.287273\"/>\n     <use style=\"fill:#ff7f0e;stroke:#ff7f0e;\" x=\"239.420193\" xlink:href=\"#m96fb905d94\" y=\"129.367814\"/>\n     <use style=\"fill:#ff7f0e;stroke:#ff7f0e;\" x=\"180.939445\" xlink:href=\"#m96fb905d94\" y=\"167.341147\"/>\n     <use style=\"fill:#ff7f0e;stroke:#ff7f0e;\" x=\"243.244106\" xlink:href=\"#m96fb905d94\" y=\"194.351937\"/>\n     <use style=\"fill:#ff7f0e;stroke:#ff7f0e;\" x=\"249.818513\" xlink:href=\"#m96fb905d94\" y=\"122.094715\"/>\n     <use style=\"fill:#ff7f0e;stroke:#ff7f0e;\" x=\"178.326485\" xlink:href=\"#m96fb905d94\" y=\"126.377271\"/>\n     <use style=\"fill:#ff7f0e;stroke:#ff7f0e;\" x=\"213.922915\" xlink:href=\"#m96fb905d94\" y=\"166.54886\"/>\n     <use style=\"fill:#ff7f0e;stroke:#ff7f0e;\" x=\"218.926313\" xlink:href=\"#m96fb905d94\" y=\"134.724536\"/>\n     <use style=\"fill:#ff7f0e;stroke:#ff7f0e;\" x=\"190.552358\" xlink:href=\"#m96fb905d94\" y=\"207.788831\"/>\n     <use style=\"fill:#ff7f0e;stroke:#ff7f0e;\" x=\"245.885313\" xlink:href=\"#m96fb905d94\" y=\"121.021583\"/>\n     <use style=\"fill:#ff7f0e;stroke:#ff7f0e;\" x=\"297.488207\" xlink:href=\"#m96fb905d94\" y=\"116.596849\"/>\n     <use style=\"fill:#ff7f0e;stroke:#ff7f0e;\" x=\"198.762982\" xlink:href=\"#m96fb905d94\" y=\"153.907254\"/>\n     <use style=\"fill:#ff7f0e;stroke:#ff7f0e;\" x=\"174.864236\" xlink:href=\"#m96fb905d94\" y=\"132.489614\"/>\n     <use style=\"fill:#ff7f0e;stroke:#ff7f0e;\" x=\"181.407889\" xlink:href=\"#m96fb905d94\" y=\"150.303192\"/>\n     <use style=\"fill:#ff7f0e;stroke:#ff7f0e;\" x=\"187.444958\" xlink:href=\"#m96fb905d94\" y=\"141.14178\"/>\n     <use style=\"fill:#ff7f0e;stroke:#ff7f0e;\" x=\"173.697789\" xlink:href=\"#m96fb905d94\" y=\"146.62154\"/>\n     <use style=\"fill:#ff7f0e;stroke:#ff7f0e;\" x=\"166.302634\" xlink:href=\"#m96fb905d94\" y=\"115.735651\"/>\n     <use style=\"fill:#ff7f0e;stroke:#ff7f0e;\" x=\"204.735386\" xlink:href=\"#m96fb905d94\" y=\"205.922573\"/>\n     <use style=\"fill:#ff7f0e;stroke:#ff7f0e;\" x=\"206.576187\" xlink:href=\"#m96fb905d94\" y=\"107.216796\"/>\n     <use style=\"fill:#ff7f0e;stroke:#ff7f0e;\" x=\"192.413867\" xlink:href=\"#m96fb905d94\" y=\"129.680139\"/>\n     <use style=\"fill:#ff7f0e;stroke:#ff7f0e;\" x=\"181.762123\" xlink:href=\"#m96fb905d94\" y=\"114.62424\"/>\n     <use style=\"fill:#ff7f0e;stroke:#ff7f0e;\" x=\"183.540199\" xlink:href=\"#m96fb905d94\" y=\"121.452467\"/>\n     <use style=\"fill:#ff7f0e;stroke:#ff7f0e;\" x=\"214.501984\" xlink:href=\"#m96fb905d94\" y=\"156.086237\"/>\n     <use style=\"fill:#ff7f0e;stroke:#ff7f0e;\" x=\"276.724351\" xlink:href=\"#m96fb905d94\" y=\"134.354442\"/>\n     <use style=\"fill:#ff7f0e;stroke:#ff7f0e;\" x=\"249.895235\" xlink:href=\"#m96fb905d94\" y=\"134.78249\"/>\n     <use style=\"fill:#ff7f0e;stroke:#ff7f0e;\" x=\"156.754808\" xlink:href=\"#m96fb905d94\" y=\"130.782745\"/>\n     <use style=\"fill:#ff7f0e;stroke:#ff7f0e;\" x=\"219.403319\" xlink:href=\"#m96fb905d94\" y=\"108.476957\"/>\n     <use style=\"fill:#ff7f0e;stroke:#ff7f0e;\" x=\"233.934868\" xlink:href=\"#m96fb905d94\" y=\"123.82939\"/>\n     <use style=\"fill:#ff7f0e;stroke:#ff7f0e;\" x=\"199.241176\" xlink:href=\"#m96fb905d94\" y=\"120.104979\"/>\n     <use style=\"fill:#ff7f0e;stroke:#ff7f0e;\" x=\"211.128885\" xlink:href=\"#m96fb905d94\" y=\"138.135607\"/>\n     <use style=\"fill:#ff7f0e;stroke:#ff7f0e;\" x=\"212.634254\" xlink:href=\"#m96fb905d94\" y=\"120.856731\"/>\n     <use style=\"fill:#ff7f0e;stroke:#ff7f0e;\" x=\"214.207634\" xlink:href=\"#m96fb905d94\" y=\"121.976074\"/>\n     <use style=\"fill:#ff7f0e;stroke:#ff7f0e;\" x=\"189.838164\" xlink:href=\"#m96fb905d94\" y=\"123.000361\"/>\n     <use style=\"fill:#ff7f0e;stroke:#ff7f0e;\" x=\"243.904286\" xlink:href=\"#m96fb905d94\" y=\"163.284361\"/>\n     <use style=\"fill:#ff7f0e;stroke:#ff7f0e;\" x=\"280.894783\" xlink:href=\"#m96fb905d94\" y=\"206.644977\"/>\n     <use style=\"fill:#ff7f0e;stroke:#ff7f0e;\" x=\"243.771455\" xlink:href=\"#m96fb905d94\" y=\"126.549641\"/>\n     <use style=\"fill:#ff7f0e;stroke:#ff7f0e;\" x=\"260.33798\" xlink:href=\"#m96fb905d94\" y=\"157.681231\"/>\n     <use style=\"fill:#ff7f0e;stroke:#ff7f0e;\" x=\"208.859752\" xlink:href=\"#m96fb905d94\" y=\"130.304802\"/>\n     <use style=\"fill:#ff7f0e;stroke:#ff7f0e;\" x=\"225.020528\" xlink:href=\"#m96fb905d94\" y=\"110.200725\"/>\n     <use style=\"fill:#ff7f0e;stroke:#ff7f0e;\" x=\"183.364226\" xlink:href=\"#m96fb905d94\" y=\"169.656181\"/>\n     <use style=\"fill:#ff7f0e;stroke:#ff7f0e;\" x=\"226.62678\" xlink:href=\"#m96fb905d94\" y=\"171.805363\"/>\n     <use style=\"fill:#ff7f0e;stroke:#ff7f0e;\" x=\"233.238372\" xlink:href=\"#m96fb905d94\" y=\"167.980991\"/>\n     <use style=\"fill:#ff7f0e;stroke:#ff7f0e;\" x=\"203.738721\" xlink:href=\"#m96fb905d94\" y=\"185.929472\"/>\n     <use style=\"fill:#ff7f0e;stroke:#ff7f0e;\" x=\"294.757665\" xlink:href=\"#m96fb905d94\" y=\"126.025561\"/>\n     <use style=\"fill:#ff7f0e;stroke:#ff7f0e;\" x=\"238.572727\" xlink:href=\"#m96fb905d94\" y=\"89.461464\"/>\n     <use style=\"fill:#ff7f0e;stroke:#ff7f0e;\" x=\"261.286828\" xlink:href=\"#m96fb905d94\" y=\"135.59974\"/>\n     <use style=\"fill:#ff7f0e;stroke:#ff7f0e;\" x=\"186.327814\" xlink:href=\"#m96fb905d94\" y=\"134.436335\"/>\n     <use style=\"fill:#ff7f0e;stroke:#ff7f0e;\" x=\"197.985792\" xlink:href=\"#m96fb905d94\" y=\"158.35115\"/>\n    </g>\n   </g>\n   <g id=\"patch_3\">\n    <path d=\"M 28.942188 224.64 \nL 28.942188 7.2 \n\" style=\"fill:none;stroke:#000000;stroke-linecap:square;stroke-linejoin:miter;stroke-width:0.8;\"/>\n   </g>\n   <g id=\"patch_4\">\n    <path d=\"M 363.742188 224.64 \nL 363.742188 7.2 \n\" style=\"fill:none;stroke:#000000;stroke-linecap:square;stroke-linejoin:miter;stroke-width:0.8;\"/>\n   </g>\n   <g id=\"patch_5\">\n    <path d=\"M 28.942188 224.64 \nL 363.742188 224.64 \n\" style=\"fill:none;stroke:#000000;stroke-linecap:square;stroke-linejoin:miter;stroke-width:0.8;\"/>\n   </g>\n   <g id=\"patch_6\">\n    <path d=\"M 28.942188 7.2 \nL 363.742188 7.2 \n\" style=\"fill:none;stroke:#000000;stroke-linecap:square;stroke-linejoin:miter;stroke-width:0.8;\"/>\n   </g>\n  </g>\n </g>\n <defs>\n  <clipPath id=\"p0a8483a572\">\n   <rect height=\"217.44\" width=\"334.8\" x=\"28.942188\" y=\"7.2\"/>\n  </clipPath>\n </defs>\n</svg>\n",
      "text/plain": [
       "<Figure size 432x288 with 1 Axes>"
      ]
     },
     "metadata": {
      "needs_background": "light"
     },
     "output_type": "display_data"
    }
   ],
   "source": [
    "mean1 = [-1,1]\n",
    "mean2 = [1,-1]\n",
    "cov = [[1, 0], [0, 1]]\n",
    "x1, y1 = np.random.multivariate_normal(mean1, cov, 100).T\n",
    "x2, y2 = np.random.multivariate_normal(mean2, cov, 100).T\n",
    "\n",
    "plt.plot(x1, y1, 'x')\n",
    "plt.plot(x2, y2, 'x')\n",
    "plt.axis('equal')\n",
    "plt.show()"
   ]
  },
  {
   "cell_type": "code",
   "execution_count": 39,
   "metadata": {},
   "outputs": [
    {
     "name": "stdout",
     "output_type": "stream",
     "text": [
      "[-0.27107071 -1.00078154 -0.18763688 -0.80753856] [ 3.12666893 -1.28550992  0.54687685  1.05453515]\n"
     ]
    }
   ],
   "source": [
    "m = 3 #rows\n",
    "l = 3 #columns\n",
    "X ,Y= np.random.multivariate_normal(mean1, cov, 4).T\n",
    "Z= np.random.multivariate_normal(mean1, cov, (m,1)).T\n",
    "print(X,Y)\n",
    "# print(Z)"
   ]
  },
  {
   "cell_type": "markdown",
   "metadata": {},
   "source": [
    "## Defining project problem in cvxpy "
   ]
  },
  {
   "cell_type": "code",
   "execution_count": 43,
   "metadata": {},
   "outputs": [
    {
     "data": {
      "text/plain": [
       "8.340041576648943"
      ]
     },
     "execution_count": 43,
     "metadata": {},
     "output_type": "execute_result"
    }
   ],
   "source": [
    "#svm formulation for synthetic \n",
    "m = 5 #rows\n",
    "l = 4 #columns\n",
    "num_samples =100\n",
    "X , Y = np.random.multivariate_normal(mean1, cov, num_samples).T  # synthetic dataset\n",
    "\n",
    "## M : dimension of \n",
    "W_ = cp.Variable((num_samples,1))\n",
    "w_ = cp.Variable()\n",
    "loss = cp.sum(cp.pos(1 - cp.multiply(Y, X @ W_ - w_)))\n",
    "# reg = cp.norm(W, 1)\n",
    "# lambd = cp.Parameter(nonneg=True)\n",
    "prob = cp.Problem(cp.Minimize(loss/m))\n",
    "prob.solve()"
   ]
  },
  {
   "cell_type": "markdown",
   "metadata": {},
   "source": [
    "# References\n",
    "- https://github.com/sdeepaknarayanan/Machine-Learning/blob/master/Assignment%207/HW7_SVM.ipynb  \n",
    "\n",
    "- https://www.baeldung.com/cs/svm-hard-margin-vs-soft-margin\n",
    "- https://www.quora.com/How-do-we-select-which-data-points-act-as-support-vectors-for-SVM\n",
    "\n",
    "\n",
    "# Papers\n",
    "- https://link.springer.com/content/pdf/10.1007/s10462-017-9611-1.pdf"
   ]
  },
  {
   "cell_type": "markdown",
   "metadata": {},
   "source": [
    "# Preparing the data"
   ]
  },
  {
   "cell_type": "code",
   "execution_count": 2,
   "metadata": {},
   "outputs": [
    {
     "name": "stderr",
     "output_type": "stream",
     "text": [
      "/home/anw/.local/lib/python3.8/site-packages/pandas/core/indexing.py:1732: SettingWithCopyWarning: \n",
      "A value is trying to be set on a copy of a slice from a DataFrame\n",
      "\n",
      "See the caveats in the documentation: https://pandas.pydata.org/pandas-docs/stable/user_guide/indexing.html#returning-a-view-versus-a-copy\n",
      "  self._setitem_single_block(indexer, value, name)\n",
      "/home/anw/.local/lib/python3.8/site-packages/pandas/core/indexing.py:1965: SettingWithCopyWarning: \n",
      "A value is trying to be set on a copy of a slice from a DataFrame\n",
      "\n",
      "See the caveats in the documentation: https://pandas.pydata.org/pandas-docs/stable/user_guide/indexing.html#returning-a-view-versus-a-copy\n",
      "  self.obj._check_is_chained_assignment_possible()\n"
     ]
    }
   ],
   "source": [
    "dataset = pd.read_csv('mnist/mnist_train.csv')\n",
    "train_data, train_label = dataset.drop(labels = [\"label\"],axis = 1).to_numpy(), dataset[\"label\"]\n",
    "trainlabel = dataset.loc[(dataset['label']== 1)  | (dataset['label']== 7) ]['label']\n",
    "trainlabel.loc[trainlabel == 1] =1\n",
    "trainlabel.loc[trainlabel == 7] =-1\n",
    "traindata = dataset.loc[(dataset['label']== 1)  | (dataset['label']== 7) ]\n",
    "traindata = traindata.drop(labels = [\"label\"],axis = 1).to_numpy()\n",
    "trainlabel = trainlabel.to_numpy()"
   ]
  },
  {
   "cell_type": "code",
   "execution_count": 11,
   "metadata": {},
   "outputs": [],
   "source": [
    "def prepare_binary(class1:int,class2:int):\n",
    "    #traindata\n",
    "    trainlabel = dataset.loc[(dataset['label']== class1)  | (dataset['label']== class2) ]['label']\n",
    "    trainlabel.loc[trainlabel == class1] = 1\n",
    "    trainlabel.loc[trainlabel == class2] = -1\n",
    "    trainlabel = trainlabel.to_numpy()\n",
    "\n",
    "    # traindata\n",
    "    traindata = dataset.loc[(dataset['label']== 1)  | (dataset['label']== 7) ]\n",
    "    traindata = traindata.drop(labels = [\"label\"],axis = 1).to_numpy()\n",
    "    return trainlabel,traindata"
   ]
  },
  {
   "cell_type": "code",
   "execution_count": 4,
   "metadata": {},
   "outputs": [
    {
     "data": {
      "text/plain": [
       "(13007, 784)"
      ]
     },
     "execution_count": 4,
     "metadata": {},
     "output_type": "execute_result"
    }
   ],
   "source": [
    "traindata.shape"
   ]
  },
  {
   "cell_type": "markdown",
   "metadata": {},
   "source": [
    "# SVM formulation for mnist classes 1 and 7"
   ]
  },
  {
   "cell_type": "code",
   "execution_count": 3,
   "metadata": {},
   "outputs": [
    {
     "data": {
      "text/plain": [
       "0.0009312605061763449"
      ]
     },
     "execution_count": 3,
     "metadata": {},
     "output_type": "execute_result"
    }
   ],
   "source": [
    "#normal\n",
    "m = traindata.shape[1]\n",
    "W = cp.Variable((m,1))\n",
    "w = cp.Variable()\n",
    "objective_func = cp.Minimize(0.5*cp.norm(W,p=2)**2)\n",
    "const = [trainlabel[i]*(traindata[i]@ W+w)>=1 for i in range(traindata.shape[0])]\n",
    "prob = cp.Problem(objective_func,constraints=const)\n",
    "\n",
    "# loss = cp.sum(cp.pos(1 - cp.multiply(train_data, input_row @ W - w)))\n",
    "# prob = cp.Problem(cp.Minimize(loss/m))\n",
    "prob.solve()"
   ]
  },
  {
   "cell_type": "code",
   "execution_count": 26,
   "metadata": {},
   "outputs": [
    {
     "name": "stderr",
     "output_type": "stream",
     "text": [
      "/home/anw/.local/lib/python3.8/site-packages/cvxpy/expressions/expression.py:556: UserWarning: \n",
      "This use of ``*`` has resulted in matrix multiplication.\n",
      "Using ``*`` for matrix multiplication has been deprecated since CVXPY 1.1.\n",
      "    Use ``*`` for matrix-scalar and vector-scalar multiplication.\n",
      "    Use ``@`` for matrix-matrix and matrix-vector multiplication.\n",
      "    Use ``multiply`` for elementwise multiplication.\n",
      "This code path has been hit 1 times so far.\n",
      "\n",
      "  warnings.warn(msg, UserWarning)\n"
     ]
    },
    {
     "ename": "ValueError",
     "evalue": "Cannot broadcast dimensions  (13007,) (13007, 1)",
     "output_type": "error",
     "traceback": [
      "\u001b[0;31m---------------------------------------------------------------------------\u001b[0m",
      "\u001b[0;31mValueError\u001b[0m                                Traceback (most recent call last)",
      "\u001b[0;32m/tmp/ipykernel_276195/2979064976.py\u001b[0m in \u001b[0;36m<module>\u001b[0;34m\u001b[0m\n\u001b[1;32m      3\u001b[0m \u001b[0mW1\u001b[0m \u001b[0;34m=\u001b[0m \u001b[0mcp\u001b[0m\u001b[0;34m.\u001b[0m\u001b[0mVariable\u001b[0m\u001b[0;34m(\u001b[0m\u001b[0;34m(\u001b[0m\u001b[0mm\u001b[0m\u001b[0;34m,\u001b[0m\u001b[0;36m1\u001b[0m\u001b[0;34m)\u001b[0m\u001b[0;34m)\u001b[0m\u001b[0;34m\u001b[0m\u001b[0;34m\u001b[0m\u001b[0m\n\u001b[1;32m      4\u001b[0m \u001b[0mw1\u001b[0m \u001b[0;34m=\u001b[0m \u001b[0mcp\u001b[0m\u001b[0;34m.\u001b[0m\u001b[0mVariable\u001b[0m\u001b[0;34m(\u001b[0m\u001b[0;34m)\u001b[0m\u001b[0;34m\u001b[0m\u001b[0;34m\u001b[0m\u001b[0m\n\u001b[0;32m----> 5\u001b[0;31m \u001b[0mobjective_func1\u001b[0m \u001b[0;34m=\u001b[0m \u001b[0mcp\u001b[0m\u001b[0;34m.\u001b[0m\u001b[0mMinimize\u001b[0m\u001b[0;34m(\u001b[0m\u001b[0msum\u001b[0m\u001b[0;34m(\u001b[0m\u001b[0mcp\u001b[0m\u001b[0;34m.\u001b[0m\u001b[0mpos\u001b[0m\u001b[0;34m(\u001b[0m\u001b[0;36m1\u001b[0m\u001b[0;34m-\u001b[0m\u001b[0mcp\u001b[0m\u001b[0;34m.\u001b[0m\u001b[0mmultiply\u001b[0m\u001b[0;34m(\u001b[0m\u001b[0mtrainlabel\u001b[0m\u001b[0;34m,\u001b[0m\u001b[0mtraindata\u001b[0m\u001b[0;34m*\u001b[0m\u001b[0mW1\u001b[0m \u001b[0;34m+\u001b[0m \u001b[0mw1\u001b[0m\u001b[0;34m)\u001b[0m\u001b[0;34m)\u001b[0m\u001b[0;34m)\u001b[0m\u001b[0;34m)\u001b[0m\u001b[0;34m\u001b[0m\u001b[0;34m\u001b[0m\u001b[0m\n\u001b[0m\u001b[1;32m      6\u001b[0m \u001b[0;31m# const = [trainlabel[i]*(traindata[i]@ W+w)>=1 for i in range(traindata.shape[0])]\u001b[0m\u001b[0;34m\u001b[0m\u001b[0;34m\u001b[0m\u001b[0;34m\u001b[0m\u001b[0m\n\u001b[1;32m      7\u001b[0m \u001b[0mprob1\u001b[0m \u001b[0;34m=\u001b[0m \u001b[0mcp\u001b[0m\u001b[0;34m.\u001b[0m\u001b[0mProblem\u001b[0m\u001b[0;34m(\u001b[0m\u001b[0mobjective_func1\u001b[0m\u001b[0;34m)\u001b[0m\u001b[0;34m\u001b[0m\u001b[0;34m\u001b[0m\u001b[0m\n",
      "\u001b[0;32m~/.local/lib/python3.8/site-packages/cvxpy/atoms/affine/binary_operators.py\u001b[0m in \u001b[0;36m__init__\u001b[0;34m(self, lh_expr, rh_expr)\u001b[0m\n\u001b[1;32m    234\u001b[0m     \u001b[0;32mdef\u001b[0m \u001b[0m__init__\u001b[0m\u001b[0;34m(\u001b[0m\u001b[0mself\u001b[0m\u001b[0;34m,\u001b[0m \u001b[0mlh_expr\u001b[0m\u001b[0;34m,\u001b[0m \u001b[0mrh_expr\u001b[0m\u001b[0;34m)\u001b[0m \u001b[0;34m->\u001b[0m \u001b[0;32mNone\u001b[0m\u001b[0;34m:\u001b[0m\u001b[0;34m\u001b[0m\u001b[0;34m\u001b[0m\u001b[0m\n\u001b[1;32m    235\u001b[0m         \u001b[0mlh_expr\u001b[0m\u001b[0;34m,\u001b[0m \u001b[0mrh_expr\u001b[0m \u001b[0;34m=\u001b[0m \u001b[0mself\u001b[0m\u001b[0;34m.\u001b[0m\u001b[0mbroadcast\u001b[0m\u001b[0;34m(\u001b[0m\u001b[0mlh_expr\u001b[0m\u001b[0;34m,\u001b[0m \u001b[0mrh_expr\u001b[0m\u001b[0;34m)\u001b[0m\u001b[0;34m\u001b[0m\u001b[0;34m\u001b[0m\u001b[0m\n\u001b[0;32m--> 236\u001b[0;31m         \u001b[0msuper\u001b[0m\u001b[0;34m(\u001b[0m\u001b[0mmultiply\u001b[0m\u001b[0;34m,\u001b[0m \u001b[0mself\u001b[0m\u001b[0;34m)\u001b[0m\u001b[0;34m.\u001b[0m\u001b[0m__init__\u001b[0m\u001b[0;34m(\u001b[0m\u001b[0mlh_expr\u001b[0m\u001b[0;34m,\u001b[0m \u001b[0mrh_expr\u001b[0m\u001b[0;34m)\u001b[0m\u001b[0;34m\u001b[0m\u001b[0;34m\u001b[0m\u001b[0m\n\u001b[0m\u001b[1;32m    237\u001b[0m \u001b[0;34m\u001b[0m\u001b[0m\n\u001b[1;32m    238\u001b[0m     \u001b[0;32mdef\u001b[0m \u001b[0mis_atom_log_log_convex\u001b[0m\u001b[0;34m(\u001b[0m\u001b[0mself\u001b[0m\u001b[0;34m)\u001b[0m \u001b[0;34m->\u001b[0m \u001b[0mbool\u001b[0m\u001b[0;34m:\u001b[0m\u001b[0;34m\u001b[0m\u001b[0;34m\u001b[0m\u001b[0m\n",
      "\u001b[0;32m~/.local/lib/python3.8/site-packages/cvxpy/atoms/affine/binary_operators.py\u001b[0m in \u001b[0;36m__init__\u001b[0;34m(self, lh_exp, rh_exp)\u001b[0m\n\u001b[1;32m     45\u001b[0m \u001b[0;34m\u001b[0m\u001b[0m\n\u001b[1;32m     46\u001b[0m     \u001b[0;32mdef\u001b[0m \u001b[0m__init__\u001b[0m\u001b[0;34m(\u001b[0m\u001b[0mself\u001b[0m\u001b[0;34m,\u001b[0m \u001b[0mlh_exp\u001b[0m\u001b[0;34m,\u001b[0m \u001b[0mrh_exp\u001b[0m\u001b[0;34m)\u001b[0m \u001b[0;34m->\u001b[0m \u001b[0;32mNone\u001b[0m\u001b[0;34m:\u001b[0m\u001b[0;34m\u001b[0m\u001b[0;34m\u001b[0m\u001b[0m\n\u001b[0;32m---> 47\u001b[0;31m         \u001b[0msuper\u001b[0m\u001b[0;34m(\u001b[0m\u001b[0mBinaryOperator\u001b[0m\u001b[0;34m,\u001b[0m \u001b[0mself\u001b[0m\u001b[0;34m)\u001b[0m\u001b[0;34m.\u001b[0m\u001b[0m__init__\u001b[0m\u001b[0;34m(\u001b[0m\u001b[0mlh_exp\u001b[0m\u001b[0;34m,\u001b[0m \u001b[0mrh_exp\u001b[0m\u001b[0;34m)\u001b[0m\u001b[0;34m\u001b[0m\u001b[0;34m\u001b[0m\u001b[0m\n\u001b[0m\u001b[1;32m     48\u001b[0m \u001b[0;34m\u001b[0m\u001b[0m\n\u001b[1;32m     49\u001b[0m     \u001b[0;32mdef\u001b[0m \u001b[0mname\u001b[0m\u001b[0;34m(\u001b[0m\u001b[0mself\u001b[0m\u001b[0;34m)\u001b[0m\u001b[0;34m:\u001b[0m\u001b[0;34m\u001b[0m\u001b[0;34m\u001b[0m\u001b[0m\n",
      "\u001b[0;32m~/.local/lib/python3.8/site-packages/cvxpy/atoms/atom.py\u001b[0m in \u001b[0;36m__init__\u001b[0;34m(self, *args)\u001b[0m\n\u001b[1;32m     45\u001b[0m         \u001b[0mself\u001b[0m\u001b[0;34m.\u001b[0m\u001b[0margs\u001b[0m \u001b[0;34m=\u001b[0m \u001b[0;34m[\u001b[0m\u001b[0mAtom\u001b[0m\u001b[0;34m.\u001b[0m\u001b[0mcast_to_const\u001b[0m\u001b[0;34m(\u001b[0m\u001b[0marg\u001b[0m\u001b[0;34m)\u001b[0m \u001b[0;32mfor\u001b[0m \u001b[0marg\u001b[0m \u001b[0;32min\u001b[0m \u001b[0margs\u001b[0m\u001b[0;34m]\u001b[0m\u001b[0;34m\u001b[0m\u001b[0;34m\u001b[0m\u001b[0m\n\u001b[1;32m     46\u001b[0m         \u001b[0mself\u001b[0m\u001b[0;34m.\u001b[0m\u001b[0mvalidate_arguments\u001b[0m\u001b[0;34m(\u001b[0m\u001b[0;34m)\u001b[0m\u001b[0;34m\u001b[0m\u001b[0;34m\u001b[0m\u001b[0m\n\u001b[0;32m---> 47\u001b[0;31m         \u001b[0mself\u001b[0m\u001b[0;34m.\u001b[0m\u001b[0m_shape\u001b[0m \u001b[0;34m=\u001b[0m \u001b[0mself\u001b[0m\u001b[0;34m.\u001b[0m\u001b[0mshape_from_args\u001b[0m\u001b[0;34m(\u001b[0m\u001b[0;34m)\u001b[0m\u001b[0;34m\u001b[0m\u001b[0;34m\u001b[0m\u001b[0m\n\u001b[0m\u001b[1;32m     48\u001b[0m         \u001b[0;32mif\u001b[0m \u001b[0mlen\u001b[0m\u001b[0;34m(\u001b[0m\u001b[0mself\u001b[0m\u001b[0;34m.\u001b[0m\u001b[0m_shape\u001b[0m\u001b[0;34m)\u001b[0m \u001b[0;34m>\u001b[0m \u001b[0;36m2\u001b[0m\u001b[0;34m:\u001b[0m\u001b[0;34m\u001b[0m\u001b[0;34m\u001b[0m\u001b[0m\n\u001b[1;32m     49\u001b[0m             \u001b[0;32mraise\u001b[0m \u001b[0mValueError\u001b[0m\u001b[0;34m(\u001b[0m\u001b[0;34m\"Atoms must be at most 2D.\"\u001b[0m\u001b[0;34m)\u001b[0m\u001b[0;34m\u001b[0m\u001b[0;34m\u001b[0m\u001b[0m\n",
      "\u001b[0;32m~/.local/lib/python3.8/site-packages/cvxpy/atoms/affine/binary_operators.py\u001b[0m in \u001b[0;36mshape_from_args\u001b[0;34m(self)\u001b[0m\n\u001b[1;32m    271\u001b[0m         \"\"\"The sum of the argument dimensions - 1.\n\u001b[1;32m    272\u001b[0m         \"\"\"\n\u001b[0;32m--> 273\u001b[0;31m         \u001b[0;32mreturn\u001b[0m \u001b[0mu\u001b[0m\u001b[0;34m.\u001b[0m\u001b[0mshape\u001b[0m\u001b[0;34m.\u001b[0m\u001b[0msum_shapes\u001b[0m\u001b[0;34m(\u001b[0m\u001b[0;34m[\u001b[0m\u001b[0marg\u001b[0m\u001b[0;34m.\u001b[0m\u001b[0mshape\u001b[0m \u001b[0;32mfor\u001b[0m \u001b[0marg\u001b[0m \u001b[0;32min\u001b[0m \u001b[0mself\u001b[0m\u001b[0;34m.\u001b[0m\u001b[0margs\u001b[0m\u001b[0;34m]\u001b[0m\u001b[0;34m)\u001b[0m\u001b[0;34m\u001b[0m\u001b[0;34m\u001b[0m\u001b[0m\n\u001b[0m\u001b[1;32m    274\u001b[0m \u001b[0;34m\u001b[0m\u001b[0m\n\u001b[1;32m    275\u001b[0m     \u001b[0;32mdef\u001b[0m \u001b[0mis_psd\u001b[0m\u001b[0;34m(\u001b[0m\u001b[0mself\u001b[0m\u001b[0;34m)\u001b[0m \u001b[0;34m->\u001b[0m \u001b[0mbool\u001b[0m\u001b[0;34m:\u001b[0m\u001b[0;34m\u001b[0m\u001b[0;34m\u001b[0m\u001b[0m\n",
      "\u001b[0;32m~/.local/lib/python3.8/site-packages/cvxpy/utilities/shape.py\u001b[0m in \u001b[0;36msum_shapes\u001b[0;34m(shapes)\u001b[0m\n\u001b[1;32m     46\u001b[0m         \u001b[0;31m# Only allow broadcasting for 0D arrays or summation of scalars.\u001b[0m\u001b[0;34m\u001b[0m\u001b[0;34m\u001b[0m\u001b[0;34m\u001b[0m\u001b[0m\n\u001b[1;32m     47\u001b[0m         \u001b[0;32mif\u001b[0m \u001b[0mshape\u001b[0m \u001b[0;34m!=\u001b[0m \u001b[0mt\u001b[0m \u001b[0;32mand\u001b[0m \u001b[0mlen\u001b[0m\u001b[0;34m(\u001b[0m\u001b[0msqueezed\u001b[0m\u001b[0;34m(\u001b[0m\u001b[0mshape\u001b[0m\u001b[0;34m)\u001b[0m\u001b[0;34m)\u001b[0m \u001b[0;34m!=\u001b[0m \u001b[0;36m0\u001b[0m \u001b[0;32mand\u001b[0m \u001b[0mlen\u001b[0m\u001b[0;34m(\u001b[0m\u001b[0msqueezed\u001b[0m\u001b[0;34m(\u001b[0m\u001b[0mt\u001b[0m\u001b[0;34m)\u001b[0m\u001b[0;34m)\u001b[0m \u001b[0;34m!=\u001b[0m \u001b[0;36m0\u001b[0m\u001b[0;34m:\u001b[0m\u001b[0;34m\u001b[0m\u001b[0;34m\u001b[0m\u001b[0m\n\u001b[0;32m---> 48\u001b[0;31m             raise ValueError(\n\u001b[0m\u001b[1;32m     49\u001b[0m                 \u001b[0;34m\"Cannot broadcast dimensions \"\u001b[0m \u001b[0;34m+\u001b[0m\u001b[0;34m\u001b[0m\u001b[0;34m\u001b[0m\u001b[0m\n\u001b[1;32m     50\u001b[0m                 len(shapes)*\" %s\" % tuple(shapes))\n",
      "\u001b[0;31mValueError\u001b[0m: Cannot broadcast dimensions  (13007,) (13007, 1)"
     ]
    }
   ],
   "source": [
    "#hinge loss\n",
    "m1 = traindata.shape[1]\n",
    "W1 = cp.Variable((m,1))\n",
    "w1 = cp.Variable()\n",
    "objective_func1 = cp.Minimize(sum(cp.pos(1-cp.multiply(trainlabel,traindata*W1 + w1))))\n",
    "# const = [trainlabel[i]*(traindata[i]@ W+w)>=1 for i in range(traindata.shape[0])]\n",
    "prob1 = cp.Problem(objective_func1)\n",
    "# loss = cp.sum(cp.pos(1 - cp.multiply(train_data, input_row @ W - w)))\n",
    "# prob = cp.Problem(cp.Minimize(loss/m))\n",
    "prob1.solve()"
   ]
  },
  {
   "cell_type": "markdown",
   "metadata": {},
   "source": [
    "## Test Data"
   ]
  },
  {
   "cell_type": "code",
   "execution_count": 4,
   "metadata": {},
   "outputs": [],
   "source": [
    "dataset_test = pd.read_csv('mnist/mnist_test.csv')\n",
    "testlabel = dataset.loc[(dataset['label']== 1)  | (dataset['label']== 7) ]['label']\n",
    "testlabel.loc[testlabel == 1] =1\n",
    "testlabel.loc[testlabel == 7] =-1\n",
    "testdata = dataset.loc[(dataset['label']== 1)  | (dataset['label']== 7) ]\n",
    "testdata = testdata.drop(labels = [\"label\"],axis = 1).to_numpy()\n",
    "testlabel = testlabel.to_numpy()"
   ]
  },
  {
   "cell_type": "code",
   "execution_count": 22,
   "metadata": {},
   "outputs": [
    {
     "data": {
      "text/plain": [
       "9"
      ]
     },
     "execution_count": 22,
     "metadata": {},
     "output_type": "execute_result"
    }
   ],
   "source": [
    "l = [1,2,0,1,0,1,0,0,0,]\n",
    "l = np.asarray(l)\n",
    "len(l)"
   ]
  },
  {
   "cell_type": "markdown",
   "metadata": {},
   "source": [
    "## Testing the classifier"
   ]
  },
  {
   "cell_type": "code",
   "execution_count": 5,
   "metadata": {},
   "outputs": [
    {
     "data": {
      "text/plain": [
       "array([-9.55024793])"
      ]
     },
     "execution_count": 5,
     "metadata": {},
     "output_type": "execute_result"
    }
   ],
   "source": [
    "testdata[8].dot(W.value) +  w.value"
   ]
  },
  {
   "cell_type": "code",
   "execution_count": 6,
   "metadata": {},
   "outputs": [
    {
     "data": {
      "text/plain": [
       "-1"
      ]
     },
     "execution_count": 6,
     "metadata": {},
     "output_type": "execute_result"
    }
   ],
   "source": [
    "testlabel[8]"
   ]
  },
  {
   "cell_type": "code",
   "execution_count": 34,
   "metadata": {},
   "outputs": [],
   "source": [
    "positive_class =[]\n",
    "negative_class = []\n",
    "for i in range(testdata.shape[0]):\n",
    "    if testdata[i].dot(W.value) +  w.value>1:\n",
    "        positive_class.append(testdata[i])\n",
    "    if testdata[i].dot(W.value) +  w.value<-1:\n",
    "        negative_class.append(testdata[i])\n",
    "        "
   ]
  },
  {
   "cell_type": "code",
   "execution_count": 13,
   "metadata": {},
   "outputs": [
    {
     "data": {
      "text/plain": [
       "(13007, 784)"
      ]
     },
     "execution_count": 13,
     "metadata": {},
     "output_type": "execute_result"
    }
   ],
   "source": [
    "testdata.shape\n",
    "        "
   ]
  },
  {
   "cell_type": "code",
   "execution_count": 12,
   "metadata": {},
   "outputs": [
    {
     "data": {
      "text/plain": [
       "Variable(())"
      ]
     },
     "execution_count": 12,
     "metadata": {},
     "output_type": "execute_result"
    }
   ],
   "source": [
    "train_error = (np.sign(X.dot(beta_true)) != np.sign(traindata[i].dot(W.value) +  w.value))\n",
    "test_error[i] = (np.sign(X_test.dot(beta_true) + offset) != np.sign(X_test.dot(beta.value) - v.value)).sum()/TEST"
   ]
  },
  {
   "cell_type": "code",
   "execution_count": 58,
   "metadata": {},
   "outputs": [
    {
     "data": {
      "text/plain": [
       "(60000,)"
      ]
     },
     "execution_count": 58,
     "metadata": {},
     "output_type": "execute_result"
    }
   ],
   "source": [
    "train_label.shape"
   ]
  }
 ],
 "metadata": {
  "interpreter": {
   "hash": "916dbcbb3f70747c44a77c7bcd40155683ae19c65e1c03b4aa3499c5328201f1"
  },
  "kernelspec": {
   "display_name": "Python 3.8.10 64-bit",
   "name": "python3"
  },
  "language_info": {
   "codemirror_mode": {
    "name": "ipython",
    "version": 3
   },
   "file_extension": ".py",
   "mimetype": "text/x-python",
   "name": "python",
   "nbconvert_exporter": "python",
   "pygments_lexer": "ipython3",
   "version": "3.8.10"
  },
  "orig_nbformat": 4
 },
 "nbformat": 4,
 "nbformat_minor": 2
}

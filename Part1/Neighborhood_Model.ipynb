{
 "cells": [
  {
   "cell_type": "markdown",
   "id": "281ac709",
   "metadata": {},
   "source": [
    "# Selecting Samples and Features for SVM Based on Neighborhood Model\n",
    "\n",
    "## Definitions:\n",
    "\n",
    "- Let U be the Universe of points, A be set of attributes/features.\n",
    "- Let red be the reduct of A (It is a subset that is almost as useful as A itself or alternatively it is the set of most significant attributes in A)\n",
    "\n",
    "Now, we initially set red as a null set"
   ]
  },
  {
   "cell_type": "code",
   "execution_count": 2,
   "id": "27441cb0",
   "metadata": {},
   "outputs": [],
   "source": [
    "red = None"
   ]
  },
  {
   "cell_type": "markdown",
   "id": "d2878e9c",
   "metadata": {},
   "source": [
    "Now, we iterate over every attribute in A that is not in red (a(i) belongs in A - red ) and find out if adding this attribute made any difference in significance by computing the significance of the updated red (red union a(i)) - significance of red.\n",
    "\n",
    "Then we select the attribute that makes the most difference ( by selecting the max sig diff)\n",
    "\n",
    "Now, we check if this max signifance diff is greater than zero. If it is then we add it to red and repeat this entire process again. If not, red is computed."
   ]
  },
  {
   "cell_type": "code",
   "execution_count": null,
   "id": "fe183717",
   "metadata": {},
   "outputs": [],
   "source": [
    "\n",
    "def dependency(B,U)\n",
    "#     We first calculate the positive set using B attrubutes\n",
    "    POS_B = f(B)>0\n",
    "\n",
    "#     Following 2 lines are for calculating no. of elements in multi-dimensional array\n",
    "#     size = 1\n",
    "#     for dim in np.shape(a): size *= dim\n",
    "\n",
    "#     Dependency is the ratio of consistent objects\n",
    "#     In other words its the cardinality of set A divided by cardinality of set B\n",
    "#     (Cardinality of a set is the number of elements in it)\n",
    "#     dependency = num of elements in POS_B / num of elements in U\n",
    "    return num_of_ele_POS_B / num_of_ele_U\n",
    "\n",
    "MAX_SIG_SIFF = 0\n",
    "while True:\n",
    "    for a in A: #each col in A\n",
    "        \n",
    "#         Update reduct with a(i)\n",
    "        new_red = red + a\n",
    "    \n",
    "#         Compute SIG_DIFF and MAX_SIG_DIFF\n",
    "        SIG_DIFF = dependency(new_red,U) - dependency(red,U)\n",
    "        if MAX_SIG_DIFF < SIG_DIFF:\n",
    "            MAX_SIG_DIFF = SIG_DIFF\n",
    "            \n",
    "#     Update red only if MAX_SIG_DIFF is positive else red is found\n",
    "    if MAX_SIG_DIFF > 0:\n",
    "        red = new_red\n",
    "    else:\n",
    "        break"
   ]
  },
  {
   "cell_type": "markdown",
   "id": "6c43746c",
   "metadata": {},
   "source": [
    "Now, once we have red, we know that the sets that are misclassified by the function classifier must not lie in POS (positive set) will be found as BN(Boundary set or set of remaining misclassfied data) = U - POS (set of correctly classified)\n",
    "So, boundary samples can be computed in this algorithm. However, the aim of attribute reducion is to find feature subset which can distinguish the samples. It is different from discovering boundary samples. To support separating hyper-plane, one requires a set of boundary samples with an appropriate size. Too few boundary samples are not enough to support the optimal hyper-plane. Therefore, on one hand, we should delete most of the samples in the positive region; on the other hand, we should keep enough samples near the decision boundary to support the optimal hyper-plane. The value of δ depends on applications. Generally speaking, if the inter-class distance of a learning sample set is large, we should assign δ with a\n",
    "large value to get enough boundary samples to support the optimal hyperplane."
   ]
  }
 ],
 "metadata": {
  "kernelspec": {
   "display_name": "Python 3",
   "language": "python",
   "name": "python3"
  },
  "language_info": {
   "codemirror_mode": {
    "name": "ipython",
    "version": 3
   },
   "file_extension": ".py",
   "mimetype": "text/x-python",
   "name": "python",
   "nbconvert_exporter": "python",
   "pygments_lexer": "ipython3",
   "version": "3.8.8"
  }
 },
 "nbformat": 4,
 "nbformat_minor": 5
}
